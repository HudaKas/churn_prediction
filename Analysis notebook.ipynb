{
 "cells": [
  {
   "cell_type": "markdown",
   "metadata": {},
   "source": [
    "# Customer Churn Prediction Project"
   ]
  },
  {
   "cell_type": "markdown",
   "metadata": {},
   "source": [
    "## Overview\n",
    "\n",
    "The goal of this project is to build a classifier to predict potential churning customers and suggest recommendations to keep the customers.\n",
    "\n",
    "\n",
    "## Business Problem\n",
    "\n",
    "Syriatel telecommunication company hired a data scientist to build a classifier that can predict which customers will stop dealing with them for another provider, and identify how the company can avoid the loss of those customers."
   ]
  },
  {
   "cell_type": "markdown",
   "metadata": {},
   "source": [
    "## Data Understanding"
   ]
  },
  {
   "cell_type": "markdown",
   "metadata": {},
   "source": [
    "The Syriatel dataset is from the Kaggle website. The dataset consists of 3333 rows and 21 columns with different features (continuous and categorical). These features will help to understand which factor affects the customer's decision to stay or leave.\n",
    "\n",
    "* **churn** - churn is the prediction target\n",
    "* Plans Like if the customer has some plans or not like international plan and voice mail.\n",
    "* How long the customer was with the company\n",
    "* How many calls the customer made day, evening, and nights, how many minutes were each call, and its charges\n",
    "* How many times the customer calls customer service.\n"
   ]
  },
  {
   "cell_type": "markdown",
   "metadata": {},
   "source": [
    "## Obtain the data"
   ]
  },
  {
   "cell_type": "code",
   "execution_count": 3,
   "metadata": {},
   "outputs": [],
   "source": [
    "# import the necessary libraries\n",
    "import pandas as pd\n",
    "import numpy as np\n",
    "import matplotlib.pyplot as plt\n",
    "import seaborn as sns\n",
    "\n",
    "from sklearn.model_selection import train_test_split, GridSearchCV, cross_val_score\n",
    "from sklearn.preprocessing import StandardScaler, MinMaxScaler,OneHotEncoder\n",
    "from sklearn.inspection import permutation_importance\n",
    "from sklearn.impute import SimpleImputer\n",
    "import category_encoders as ce\n",
    "import shap\n",
    "from sklearn.compose import ColumnTransformer\n",
    "from sklearn.pipeline import Pipeline\n",
    "from imblearn.pipeline import pipeline\n",
    "\n",
    "from sklearn.metrics import confusion_matrix, plot_confusion_matrix, classification_report\n",
    "from sklearn.metrics import accuracy_score, recall_score, get_scorer, f1_score,roc_auc_score,precision_score\n",
    "\n",
    "from sklearn.linear_model import LogisticRegression\n",
    "from sklearn.neighbors import KNeighborsClassifier\n",
    "from sklearn.naive_bayes import GaussianNB\n",
    "from sklearn.feature_extraction.text import CountVectorizer\n",
    "from imblearn.over_sampling import SMOTE\n",
    "from sklearn.tree import DecisionTreeClassifier,plot_tree\n",
    "from sklearn.ensemble import RandomForestClassifier\n",
    "from sklearn.ensemble import AdaBoostClassifier\n",
    "from sklearn.ensemble import GradientBoostingClassifier\n",
    "from xgboost import XGBClassifier\n",
    "\n",
    "import warnings\n",
    "warnings.filterwarnings('ignore')"
   ]
  },
  {
   "cell_type": "code",
   "execution_count": 4,
   "metadata": {},
   "outputs": [
    {
     "data": {
      "text/html": [
       "<div>\n",
       "<style scoped>\n",
       "    .dataframe tbody tr th:only-of-type {\n",
       "        vertical-align: middle;\n",
       "    }\n",
       "\n",
       "    .dataframe tbody tr th {\n",
       "        vertical-align: top;\n",
       "    }\n",
       "\n",
       "    .dataframe thead th {\n",
       "        text-align: right;\n",
       "    }\n",
       "</style>\n",
       "<table border=\"1\" class=\"dataframe\">\n",
       "  <thead>\n",
       "    <tr style=\"text-align: right;\">\n",
       "      <th></th>\n",
       "      <th>0</th>\n",
       "      <th>1</th>\n",
       "      <th>2</th>\n",
       "      <th>3</th>\n",
       "      <th>4</th>\n",
       "    </tr>\n",
       "  </thead>\n",
       "  <tbody>\n",
       "    <tr>\n",
       "      <th>state</th>\n",
       "      <td>KS</td>\n",
       "      <td>OH</td>\n",
       "      <td>NJ</td>\n",
       "      <td>OH</td>\n",
       "      <td>OK</td>\n",
       "    </tr>\n",
       "    <tr>\n",
       "      <th>account length</th>\n",
       "      <td>128</td>\n",
       "      <td>107</td>\n",
       "      <td>137</td>\n",
       "      <td>84</td>\n",
       "      <td>75</td>\n",
       "    </tr>\n",
       "    <tr>\n",
       "      <th>area code</th>\n",
       "      <td>415</td>\n",
       "      <td>415</td>\n",
       "      <td>415</td>\n",
       "      <td>408</td>\n",
       "      <td>415</td>\n",
       "    </tr>\n",
       "    <tr>\n",
       "      <th>phone number</th>\n",
       "      <td>382-4657</td>\n",
       "      <td>371-7191</td>\n",
       "      <td>358-1921</td>\n",
       "      <td>375-9999</td>\n",
       "      <td>330-6626</td>\n",
       "    </tr>\n",
       "    <tr>\n",
       "      <th>international plan</th>\n",
       "      <td>no</td>\n",
       "      <td>no</td>\n",
       "      <td>no</td>\n",
       "      <td>yes</td>\n",
       "      <td>yes</td>\n",
       "    </tr>\n",
       "    <tr>\n",
       "      <th>voice mail plan</th>\n",
       "      <td>yes</td>\n",
       "      <td>yes</td>\n",
       "      <td>no</td>\n",
       "      <td>no</td>\n",
       "      <td>no</td>\n",
       "    </tr>\n",
       "    <tr>\n",
       "      <th>number vmail messages</th>\n",
       "      <td>25</td>\n",
       "      <td>26</td>\n",
       "      <td>0</td>\n",
       "      <td>0</td>\n",
       "      <td>0</td>\n",
       "    </tr>\n",
       "    <tr>\n",
       "      <th>total day minutes</th>\n",
       "      <td>265.1</td>\n",
       "      <td>161.6</td>\n",
       "      <td>243.4</td>\n",
       "      <td>299.4</td>\n",
       "      <td>166.7</td>\n",
       "    </tr>\n",
       "    <tr>\n",
       "      <th>total day calls</th>\n",
       "      <td>110</td>\n",
       "      <td>123</td>\n",
       "      <td>114</td>\n",
       "      <td>71</td>\n",
       "      <td>113</td>\n",
       "    </tr>\n",
       "    <tr>\n",
       "      <th>total day charge</th>\n",
       "      <td>45.07</td>\n",
       "      <td>27.47</td>\n",
       "      <td>41.38</td>\n",
       "      <td>50.9</td>\n",
       "      <td>28.34</td>\n",
       "    </tr>\n",
       "    <tr>\n",
       "      <th>total eve minutes</th>\n",
       "      <td>197.4</td>\n",
       "      <td>195.5</td>\n",
       "      <td>121.2</td>\n",
       "      <td>61.9</td>\n",
       "      <td>148.3</td>\n",
       "    </tr>\n",
       "    <tr>\n",
       "      <th>total eve calls</th>\n",
       "      <td>99</td>\n",
       "      <td>103</td>\n",
       "      <td>110</td>\n",
       "      <td>88</td>\n",
       "      <td>122</td>\n",
       "    </tr>\n",
       "    <tr>\n",
       "      <th>total eve charge</th>\n",
       "      <td>16.78</td>\n",
       "      <td>16.62</td>\n",
       "      <td>10.3</td>\n",
       "      <td>5.26</td>\n",
       "      <td>12.61</td>\n",
       "    </tr>\n",
       "    <tr>\n",
       "      <th>total night minutes</th>\n",
       "      <td>244.7</td>\n",
       "      <td>254.4</td>\n",
       "      <td>162.6</td>\n",
       "      <td>196.9</td>\n",
       "      <td>186.9</td>\n",
       "    </tr>\n",
       "    <tr>\n",
       "      <th>total night calls</th>\n",
       "      <td>91</td>\n",
       "      <td>103</td>\n",
       "      <td>104</td>\n",
       "      <td>89</td>\n",
       "      <td>121</td>\n",
       "    </tr>\n",
       "    <tr>\n",
       "      <th>total night charge</th>\n",
       "      <td>11.01</td>\n",
       "      <td>11.45</td>\n",
       "      <td>7.32</td>\n",
       "      <td>8.86</td>\n",
       "      <td>8.41</td>\n",
       "    </tr>\n",
       "    <tr>\n",
       "      <th>total intl minutes</th>\n",
       "      <td>10</td>\n",
       "      <td>13.7</td>\n",
       "      <td>12.2</td>\n",
       "      <td>6.6</td>\n",
       "      <td>10.1</td>\n",
       "    </tr>\n",
       "    <tr>\n",
       "      <th>total intl calls</th>\n",
       "      <td>3</td>\n",
       "      <td>3</td>\n",
       "      <td>5</td>\n",
       "      <td>7</td>\n",
       "      <td>3</td>\n",
       "    </tr>\n",
       "    <tr>\n",
       "      <th>total intl charge</th>\n",
       "      <td>2.7</td>\n",
       "      <td>3.7</td>\n",
       "      <td>3.29</td>\n",
       "      <td>1.78</td>\n",
       "      <td>2.73</td>\n",
       "    </tr>\n",
       "    <tr>\n",
       "      <th>customer service calls</th>\n",
       "      <td>1</td>\n",
       "      <td>1</td>\n",
       "      <td>0</td>\n",
       "      <td>2</td>\n",
       "      <td>3</td>\n",
       "    </tr>\n",
       "    <tr>\n",
       "      <th>churn</th>\n",
       "      <td>False</td>\n",
       "      <td>False</td>\n",
       "      <td>False</td>\n",
       "      <td>False</td>\n",
       "      <td>False</td>\n",
       "    </tr>\n",
       "  </tbody>\n",
       "</table>\n",
       "</div>"
      ],
      "text/plain": [
       "                               0         1         2         3         4\n",
       "state                         KS        OH        NJ        OH        OK\n",
       "account length               128       107       137        84        75\n",
       "area code                    415       415       415       408       415\n",
       "phone number            382-4657  371-7191  358-1921  375-9999  330-6626\n",
       "international plan            no        no        no       yes       yes\n",
       "voice mail plan              yes       yes        no        no        no\n",
       "number vmail messages         25        26         0         0         0\n",
       "total day minutes          265.1     161.6     243.4     299.4     166.7\n",
       "total day calls              110       123       114        71       113\n",
       "total day charge           45.07     27.47     41.38      50.9     28.34\n",
       "total eve minutes          197.4     195.5     121.2      61.9     148.3\n",
       "total eve calls               99       103       110        88       122\n",
       "total eve charge           16.78     16.62      10.3      5.26     12.61\n",
       "total night minutes        244.7     254.4     162.6     196.9     186.9\n",
       "total night calls             91       103       104        89       121\n",
       "total night charge         11.01     11.45      7.32      8.86      8.41\n",
       "total intl minutes            10      13.7      12.2       6.6      10.1\n",
       "total intl calls               3         3         5         7         3\n",
       "total intl charge            2.7       3.7      3.29      1.78      2.73\n",
       "customer service calls         1         1         0         2         3\n",
       "churn                      False     False     False     False     False"
      ]
     },
     "execution_count": 4,
     "metadata": {},
     "output_type": "execute_result"
    }
   ],
   "source": [
    "# read in the data\n",
    "df00 =pd.read_csv(\"/Users/hudakassoumeh/Documents/Flatiron/Projects/churn_prediction/Data/Syriatel.csv\")\n",
    "df00.head().T"
   ]
  },
  {
   "cell_type": "code",
   "execution_count": 5,
   "metadata": {},
   "outputs": [],
   "source": [
    "df0 = df00.copy()"
   ]
  },
  {
   "cell_type": "code",
   "execution_count": 6,
   "metadata": {},
   "outputs": [
    {
     "data": {
      "text/html": [
       "<div>\n",
       "<style scoped>\n",
       "    .dataframe tbody tr th:only-of-type {\n",
       "        vertical-align: middle;\n",
       "    }\n",
       "\n",
       "    .dataframe tbody tr th {\n",
       "        vertical-align: top;\n",
       "    }\n",
       "\n",
       "    .dataframe thead th {\n",
       "        text-align: right;\n",
       "    }\n",
       "</style>\n",
       "<table border=\"1\" class=\"dataframe\">\n",
       "  <thead>\n",
       "    <tr style=\"text-align: right;\">\n",
       "      <th></th>\n",
       "      <th>count</th>\n",
       "      <th>mean</th>\n",
       "      <th>std</th>\n",
       "      <th>min</th>\n",
       "      <th>25%</th>\n",
       "      <th>50%</th>\n",
       "      <th>75%</th>\n",
       "      <th>max</th>\n",
       "    </tr>\n",
       "  </thead>\n",
       "  <tbody>\n",
       "    <tr>\n",
       "      <th>account length</th>\n",
       "      <td>3333.0</td>\n",
       "      <td>101.064806</td>\n",
       "      <td>39.822106</td>\n",
       "      <td>1.00</td>\n",
       "      <td>74.00</td>\n",
       "      <td>101.00</td>\n",
       "      <td>127.00</td>\n",
       "      <td>243.00</td>\n",
       "    </tr>\n",
       "    <tr>\n",
       "      <th>area code</th>\n",
       "      <td>3333.0</td>\n",
       "      <td>437.182418</td>\n",
       "      <td>42.371290</td>\n",
       "      <td>408.00</td>\n",
       "      <td>408.00</td>\n",
       "      <td>415.00</td>\n",
       "      <td>510.00</td>\n",
       "      <td>510.00</td>\n",
       "    </tr>\n",
       "    <tr>\n",
       "      <th>number vmail messages</th>\n",
       "      <td>3333.0</td>\n",
       "      <td>8.099010</td>\n",
       "      <td>13.688365</td>\n",
       "      <td>0.00</td>\n",
       "      <td>0.00</td>\n",
       "      <td>0.00</td>\n",
       "      <td>20.00</td>\n",
       "      <td>51.00</td>\n",
       "    </tr>\n",
       "    <tr>\n",
       "      <th>total day minutes</th>\n",
       "      <td>3333.0</td>\n",
       "      <td>179.775098</td>\n",
       "      <td>54.467389</td>\n",
       "      <td>0.00</td>\n",
       "      <td>143.70</td>\n",
       "      <td>179.40</td>\n",
       "      <td>216.40</td>\n",
       "      <td>350.80</td>\n",
       "    </tr>\n",
       "    <tr>\n",
       "      <th>total day calls</th>\n",
       "      <td>3333.0</td>\n",
       "      <td>100.435644</td>\n",
       "      <td>20.069084</td>\n",
       "      <td>0.00</td>\n",
       "      <td>87.00</td>\n",
       "      <td>101.00</td>\n",
       "      <td>114.00</td>\n",
       "      <td>165.00</td>\n",
       "    </tr>\n",
       "    <tr>\n",
       "      <th>total day charge</th>\n",
       "      <td>3333.0</td>\n",
       "      <td>30.562307</td>\n",
       "      <td>9.259435</td>\n",
       "      <td>0.00</td>\n",
       "      <td>24.43</td>\n",
       "      <td>30.50</td>\n",
       "      <td>36.79</td>\n",
       "      <td>59.64</td>\n",
       "    </tr>\n",
       "    <tr>\n",
       "      <th>total eve minutes</th>\n",
       "      <td>3333.0</td>\n",
       "      <td>200.980348</td>\n",
       "      <td>50.713844</td>\n",
       "      <td>0.00</td>\n",
       "      <td>166.60</td>\n",
       "      <td>201.40</td>\n",
       "      <td>235.30</td>\n",
       "      <td>363.70</td>\n",
       "    </tr>\n",
       "    <tr>\n",
       "      <th>total eve calls</th>\n",
       "      <td>3333.0</td>\n",
       "      <td>100.114311</td>\n",
       "      <td>19.922625</td>\n",
       "      <td>0.00</td>\n",
       "      <td>87.00</td>\n",
       "      <td>100.00</td>\n",
       "      <td>114.00</td>\n",
       "      <td>170.00</td>\n",
       "    </tr>\n",
       "    <tr>\n",
       "      <th>total eve charge</th>\n",
       "      <td>3333.0</td>\n",
       "      <td>17.083540</td>\n",
       "      <td>4.310668</td>\n",
       "      <td>0.00</td>\n",
       "      <td>14.16</td>\n",
       "      <td>17.12</td>\n",
       "      <td>20.00</td>\n",
       "      <td>30.91</td>\n",
       "    </tr>\n",
       "    <tr>\n",
       "      <th>total night minutes</th>\n",
       "      <td>3333.0</td>\n",
       "      <td>200.872037</td>\n",
       "      <td>50.573847</td>\n",
       "      <td>23.20</td>\n",
       "      <td>167.00</td>\n",
       "      <td>201.20</td>\n",
       "      <td>235.30</td>\n",
       "      <td>395.00</td>\n",
       "    </tr>\n",
       "    <tr>\n",
       "      <th>total night calls</th>\n",
       "      <td>3333.0</td>\n",
       "      <td>100.107711</td>\n",
       "      <td>19.568609</td>\n",
       "      <td>33.00</td>\n",
       "      <td>87.00</td>\n",
       "      <td>100.00</td>\n",
       "      <td>113.00</td>\n",
       "      <td>175.00</td>\n",
       "    </tr>\n",
       "    <tr>\n",
       "      <th>total night charge</th>\n",
       "      <td>3333.0</td>\n",
       "      <td>9.039325</td>\n",
       "      <td>2.275873</td>\n",
       "      <td>1.04</td>\n",
       "      <td>7.52</td>\n",
       "      <td>9.05</td>\n",
       "      <td>10.59</td>\n",
       "      <td>17.77</td>\n",
       "    </tr>\n",
       "    <tr>\n",
       "      <th>total intl minutes</th>\n",
       "      <td>3333.0</td>\n",
       "      <td>10.237294</td>\n",
       "      <td>2.791840</td>\n",
       "      <td>0.00</td>\n",
       "      <td>8.50</td>\n",
       "      <td>10.30</td>\n",
       "      <td>12.10</td>\n",
       "      <td>20.00</td>\n",
       "    </tr>\n",
       "    <tr>\n",
       "      <th>total intl calls</th>\n",
       "      <td>3333.0</td>\n",
       "      <td>4.479448</td>\n",
       "      <td>2.461214</td>\n",
       "      <td>0.00</td>\n",
       "      <td>3.00</td>\n",
       "      <td>4.00</td>\n",
       "      <td>6.00</td>\n",
       "      <td>20.00</td>\n",
       "    </tr>\n",
       "    <tr>\n",
       "      <th>total intl charge</th>\n",
       "      <td>3333.0</td>\n",
       "      <td>2.764581</td>\n",
       "      <td>0.753773</td>\n",
       "      <td>0.00</td>\n",
       "      <td>2.30</td>\n",
       "      <td>2.78</td>\n",
       "      <td>3.27</td>\n",
       "      <td>5.40</td>\n",
       "    </tr>\n",
       "    <tr>\n",
       "      <th>customer service calls</th>\n",
       "      <td>3333.0</td>\n",
       "      <td>1.562856</td>\n",
       "      <td>1.315491</td>\n",
       "      <td>0.00</td>\n",
       "      <td>1.00</td>\n",
       "      <td>1.00</td>\n",
       "      <td>2.00</td>\n",
       "      <td>9.00</td>\n",
       "    </tr>\n",
       "  </tbody>\n",
       "</table>\n",
       "</div>"
      ],
      "text/plain": [
       "                         count        mean        std     min     25%     50%  \\\n",
       "account length          3333.0  101.064806  39.822106    1.00   74.00  101.00   \n",
       "area code               3333.0  437.182418  42.371290  408.00  408.00  415.00   \n",
       "number vmail messages   3333.0    8.099010  13.688365    0.00    0.00    0.00   \n",
       "total day minutes       3333.0  179.775098  54.467389    0.00  143.70  179.40   \n",
       "total day calls         3333.0  100.435644  20.069084    0.00   87.00  101.00   \n",
       "total day charge        3333.0   30.562307   9.259435    0.00   24.43   30.50   \n",
       "total eve minutes       3333.0  200.980348  50.713844    0.00  166.60  201.40   \n",
       "total eve calls         3333.0  100.114311  19.922625    0.00   87.00  100.00   \n",
       "total eve charge        3333.0   17.083540   4.310668    0.00   14.16   17.12   \n",
       "total night minutes     3333.0  200.872037  50.573847   23.20  167.00  201.20   \n",
       "total night calls       3333.0  100.107711  19.568609   33.00   87.00  100.00   \n",
       "total night charge      3333.0    9.039325   2.275873    1.04    7.52    9.05   \n",
       "total intl minutes      3333.0   10.237294   2.791840    0.00    8.50   10.30   \n",
       "total intl calls        3333.0    4.479448   2.461214    0.00    3.00    4.00   \n",
       "total intl charge       3333.0    2.764581   0.753773    0.00    2.30    2.78   \n",
       "customer service calls  3333.0    1.562856   1.315491    0.00    1.00    1.00   \n",
       "\n",
       "                           75%     max  \n",
       "account length          127.00  243.00  \n",
       "area code               510.00  510.00  \n",
       "number vmail messages    20.00   51.00  \n",
       "total day minutes       216.40  350.80  \n",
       "total day calls         114.00  165.00  \n",
       "total day charge         36.79   59.64  \n",
       "total eve minutes       235.30  363.70  \n",
       "total eve calls         114.00  170.00  \n",
       "total eve charge         20.00   30.91  \n",
       "total night minutes     235.30  395.00  \n",
       "total night calls       113.00  175.00  \n",
       "total night charge       10.59   17.77  \n",
       "total intl minutes       12.10   20.00  \n",
       "total intl calls          6.00   20.00  \n",
       "total intl charge         3.27    5.40  \n",
       "customer service calls    2.00    9.00  "
      ]
     },
     "execution_count": 6,
     "metadata": {},
     "output_type": "execute_result"
    }
   ],
   "source": [
    "df0.describe().T # checking some stat info for numeric cols"
   ]
  },
  {
   "cell_type": "code",
   "execution_count": 7,
   "metadata": {},
   "outputs": [
    {
     "data": {
      "text/html": [
       "<div>\n",
       "<style scoped>\n",
       "    .dataframe tbody tr th:only-of-type {\n",
       "        vertical-align: middle;\n",
       "    }\n",
       "\n",
       "    .dataframe tbody tr th {\n",
       "        vertical-align: top;\n",
       "    }\n",
       "\n",
       "    .dataframe thead th {\n",
       "        text-align: right;\n",
       "    }\n",
       "</style>\n",
       "<table border=\"1\" class=\"dataframe\">\n",
       "  <thead>\n",
       "    <tr style=\"text-align: right;\">\n",
       "      <th></th>\n",
       "      <th>state</th>\n",
       "      <th>phone number</th>\n",
       "      <th>international plan</th>\n",
       "      <th>voice mail plan</th>\n",
       "    </tr>\n",
       "  </thead>\n",
       "  <tbody>\n",
       "    <tr>\n",
       "      <th>count</th>\n",
       "      <td>3333</td>\n",
       "      <td>3333</td>\n",
       "      <td>3333</td>\n",
       "      <td>3333</td>\n",
       "    </tr>\n",
       "    <tr>\n",
       "      <th>unique</th>\n",
       "      <td>51</td>\n",
       "      <td>3333</td>\n",
       "      <td>2</td>\n",
       "      <td>2</td>\n",
       "    </tr>\n",
       "    <tr>\n",
       "      <th>top</th>\n",
       "      <td>WV</td>\n",
       "      <td>349-3005</td>\n",
       "      <td>no</td>\n",
       "      <td>no</td>\n",
       "    </tr>\n",
       "    <tr>\n",
       "      <th>freq</th>\n",
       "      <td>106</td>\n",
       "      <td>1</td>\n",
       "      <td>3010</td>\n",
       "      <td>2411</td>\n",
       "    </tr>\n",
       "  </tbody>\n",
       "</table>\n",
       "</div>"
      ],
      "text/plain": [
       "       state phone number international plan voice mail plan\n",
       "count   3333         3333               3333            3333\n",
       "unique    51         3333                  2               2\n",
       "top       WV     349-3005                 no              no\n",
       "freq     106            1               3010            2411"
      ]
     },
     "execution_count": 7,
     "metadata": {},
     "output_type": "execute_result"
    }
   ],
   "source": [
    "# checking some stat for object type/ categorical cols\n",
    "df0[[c for c in df0.columns if df0[c].dtype == object]].describe()"
   ]
  },
  {
   "cell_type": "code",
   "execution_count": 8,
   "metadata": {},
   "outputs": [
    {
     "name": "stdout",
     "output_type": "stream",
     "text": [
      "<class 'pandas.core.frame.DataFrame'>\n",
      "RangeIndex: 3333 entries, 0 to 3332\n",
      "Data columns (total 21 columns):\n",
      " #   Column                  Non-Null Count  Dtype  \n",
      "---  ------                  --------------  -----  \n",
      " 0   state                   3333 non-null   object \n",
      " 1   account length          3333 non-null   int64  \n",
      " 2   area code               3333 non-null   int64  \n",
      " 3   phone number            3333 non-null   object \n",
      " 4   international plan      3333 non-null   object \n",
      " 5   voice mail plan         3333 non-null   object \n",
      " 6   number vmail messages   3333 non-null   int64  \n",
      " 7   total day minutes       3333 non-null   float64\n",
      " 8   total day calls         3333 non-null   int64  \n",
      " 9   total day charge        3333 non-null   float64\n",
      " 10  total eve minutes       3333 non-null   float64\n",
      " 11  total eve calls         3333 non-null   int64  \n",
      " 12  total eve charge        3333 non-null   float64\n",
      " 13  total night minutes     3333 non-null   float64\n",
      " 14  total night calls       3333 non-null   int64  \n",
      " 15  total night charge      3333 non-null   float64\n",
      " 16  total intl minutes      3333 non-null   float64\n",
      " 17  total intl calls        3333 non-null   int64  \n",
      " 18  total intl charge       3333 non-null   float64\n",
      " 19  customer service calls  3333 non-null   int64  \n",
      " 20  churn                   3333 non-null   bool   \n",
      "dtypes: bool(1), float64(8), int64(8), object(4)\n",
      "memory usage: 524.2+ KB\n"
     ]
    }
   ],
   "source": [
    "df0.info() #check type of data and missing values"
   ]
  },
  {
   "cell_type": "markdown",
   "metadata": {},
   "source": [
    "## Scrub the data"
   ]
  },
  {
   "cell_type": "code",
   "execution_count": 9,
   "metadata": {},
   "outputs": [
    {
     "data": {
      "text/plain": [
       "state                     0\n",
       "account length            0\n",
       "area code                 0\n",
       "phone number              0\n",
       "international plan        0\n",
       "voice mail plan           0\n",
       "number vmail messages     0\n",
       "total day minutes         0\n",
       "total day calls           0\n",
       "total day charge          0\n",
       "total eve minutes         0\n",
       "total eve calls           0\n",
       "total eve charge          0\n",
       "total night minutes       0\n",
       "total night calls         0\n",
       "total night charge        0\n",
       "total intl minutes        0\n",
       "total intl calls          0\n",
       "total intl charge         0\n",
       "customer service calls    0\n",
       "churn                     0\n",
       "dtype: int64"
      ]
     },
     "execution_count": 9,
     "metadata": {},
     "output_type": "execute_result"
    }
   ],
   "source": [
    "df0.isna().sum() #check for any missing value"
   ]
  },
  {
   "cell_type": "code",
   "execution_count": 10,
   "metadata": {},
   "outputs": [
    {
     "data": {
      "text/plain": [
       "False"
      ]
     },
     "execution_count": 10,
     "metadata": {},
     "output_type": "execute_result"
    }
   ],
   "source": [
    "df0[\"phone number\"].duplicated().any() \n",
    "# check for any duplicate phone number because the phone number like an ID"
   ]
  },
  {
   "cell_type": "code",
   "execution_count": 11,
   "metadata": {},
   "outputs": [
    {
     "data": {
      "text/plain": [
       "False"
      ]
     },
     "execution_count": 11,
     "metadata": {},
     "output_type": "execute_result"
    }
   ],
   "source": [
    "df0.duplicated().any() # check for any duplicate"
   ]
  },
  {
   "cell_type": "code",
   "execution_count": 12,
   "metadata": {},
   "outputs": [
    {
     "data": {
      "text/plain": [
       "Index(['state', 'account length', 'area code', 'phone number',\n",
       "       'international plan', 'voice mail plan', 'number vmail messages',\n",
       "       'total day minutes', 'total day calls', 'total day charge',\n",
       "       'total eve minutes', 'total eve calls', 'total eve charge',\n",
       "       'total night minutes', 'total night calls', 'total night charge',\n",
       "       'total intl minutes', 'total intl calls', 'total intl charge',\n",
       "       'customer service calls', 'churn'],\n",
       "      dtype='object')"
      ]
     },
     "execution_count": 12,
     "metadata": {},
     "output_type": "execute_result"
    }
   ],
   "source": [
    "df0.columns"
   ]
  },
  {
   "cell_type": "code",
   "execution_count": 13,
   "metadata": {},
   "outputs": [
    {
     "name": "stdout",
     "output_type": "stream",
     "text": [
      "['KS' 'OH' 'NJ' 'OK' 'AL' 'MA' 'MO' 'LA' 'WV' 'IN' 'RI' 'IA' 'MT' 'NY'\n",
      " 'ID' 'VT' 'VA' 'TX' 'FL' 'CO' 'AZ' 'SC' 'NE' 'WY' 'HI' 'IL' 'NH' 'GA'\n",
      " 'AK' 'MD' 'AR' 'WI' 'OR' 'MI' 'DE' 'UT' 'CA' 'MN' 'SD' 'NC' 'WA' 'NM'\n",
      " 'NV' 'DC' 'KY' 'ME' 'MS' 'TN' 'PA' 'CT' 'ND']\n",
      "[128 107 137  84  75 118 121 147 117 141  65  74 168  95  62 161  85  93\n",
      "  76  73  77 130 111 132 174  57  54  20  49 142 172  12  72  36  78 136\n",
      " 149  98 135  34 160  64  59 119  97  52  60  10  96  87  81  68 125 116\n",
      "  38  40  43 113 126 150 138 162  90  50  82 144  46  70  55 106  94 155\n",
      "  80 104  99 120 108 122 157 103  63 112  41 193  61  92 131 163  91 127\n",
      " 110 140  83 145  56 151 139   6 115 146 185 148  32  25 179  67  19 170\n",
      " 164  51 208  53 105  66  86  35  88 123  45 100 215  22  33 114  24 101\n",
      " 143  48  71 167  89 199 166 158 196 209  16  39 173 129  44  79  31 124\n",
      "  37 159 194 154  21 133 224  58  11 109 102 165  18  30 176  47 190 152\n",
      "  26  69 186 171  28 153 169  13  27   3  42 189 156 134 243  23   1 205\n",
      " 200   5   9 178 181 182 217 177 210  29 180   2  17   7 212 232 192 195\n",
      " 197 225 184 191 201  15 183 202   8 175   4 188 204 221]\n",
      "[415 408 510]\n",
      "['382-4657' '371-7191' '358-1921' ... '328-8230' '364-6381' '400-4344']\n",
      "['no' 'yes']\n",
      "['yes' 'no']\n",
      "[25 26  0 24 37 27 33 39 30 41 28 34 46 29 35 21 32 42 36 22 23 43 31 38\n",
      " 40 48 18 17 45 16 20 14 19 51 15 11 12 47  8 44 49  4 10 13 50  9]\n",
      "[265.1 161.6 243.4 ... 321.1 231.1 180.8]\n",
      "[110 123 114  71 113  98  88  79  97  84 137 127  96  70  67 139  66  90\n",
      " 117  89 112 103  86  76 115  73 109  95 105 121 118  94  80 128  64 106\n",
      " 102  85  82  77 120 133 135 108  57  83 129  91  92  74  93 101 146  72\n",
      "  99 104 125  61 100  87 131  65 124 119  52  68 107  47 116 151 126 122\n",
      " 111 145  78 136 140 148  81  55  69 158 134 130  63  53  75 141 163  59\n",
      " 132 138  54  58  62 144 143 147  36  40 150  56  51 165  30  48  60  42\n",
      "   0  45 160 149 152 142 156  35  49 157  44]\n",
      "[45.07 27.47 41.38 ... 54.59 39.29 30.74]\n",
      "[197.4 195.5 121.2 ... 153.4 288.8 265.9]\n",
      "[ 99 103 110  88 122 101 108  94  80 111  83 148  71  75  76  97  90  65\n",
      "  93 121 102  72 112 100  84 109  63 107 115 119 116  92  85  98 118  74\n",
      " 117  58  96  66  67  62  77 164 126 142  64 104  79  95  86 105  81 113\n",
      " 106  59  48  82  87 123 114 140 128  60  78 125  91  46 138 129  89 133\n",
      " 136  57 135 139  51  70 151 137 134  73 152 168  68 120  69 127 132 143\n",
      "  61 124  42  54 131  52 149  56  37 130  49 146 147  55  12  50 157 155\n",
      "  45 144  36 156  53 141  44 153 154 150  43   0 145 159 170]\n",
      "[16.78 16.62 10.3  ... 13.04 24.55 22.6 ]\n",
      "[244.7 254.4 162.6 ... 280.9 120.1 279.1]\n",
      "[ 91 103 104  89 121 118  96  90  97 111  94 128 115  99  75 108  74 133\n",
      "  64  78 105  68 102 148  98 116  71 109 107 135  92  86 127  79  87 129\n",
      "  57  77  95  54 106  53  67 139  60 100  61  73 113  76 119  88  84  62\n",
      " 137  72 142 114 126 122  81 123 117  82  80 120 130 134  59 112 132 110\n",
      " 101 150  69 131  83  93 124 136 125  66 143  58  55  85  56  70  46  42\n",
      " 152  44 145  50 153  49 175  63 138 154 140 141 146  65  51 151 158 155\n",
      " 157 147 144 149 166  52  33 156  38  36  48 164]\n",
      "[11.01 11.45  7.32  8.86  8.41  9.18  9.57  9.53  9.71 14.69  9.4   8.82\n",
      "  6.35  8.65  9.14  7.23  4.02  5.83  7.46  8.68  9.43  8.18  8.53 10.67\n",
      " 11.28  8.22  4.59  8.17  8.04 11.27 11.08 13.2  12.61  9.61  6.88  5.82\n",
      " 10.25  4.58  8.47  8.45  5.5  14.02  8.03 11.94  7.34  6.06 10.9   6.44\n",
      "  3.18 10.66 11.21 12.73 10.28 12.16  6.34  8.15  5.84  8.52  7.5   7.48\n",
      "  6.21 11.95  7.15  9.63  7.1   6.91  6.69 13.29 11.46  7.76  6.86  8.16\n",
      " 12.15  7.79  7.99 10.29 10.08 12.53  7.91 10.02  8.61 14.54  8.21  9.09\n",
      "  4.93 11.39 11.88  5.75  7.83  8.59  7.52 12.38  7.21  5.81  8.1  11.04\n",
      " 11.19  8.55  8.42  9.76  9.87 10.86  5.36 10.03 11.15  9.51  6.22  2.59\n",
      "  7.65  6.45  9.    6.4   9.94  5.08 10.23 11.36  6.97 10.16  7.88 11.91\n",
      "  6.61 11.55 11.76  9.27  9.29 11.12 10.69  8.8  11.85  7.14  8.71 11.42\n",
      "  4.94  9.02 11.22  4.97  9.15  5.45  7.27 12.91  7.75 13.46  6.32 12.13\n",
      " 11.97  6.93 11.66  7.42  6.19 11.41 10.33 10.65 11.92  4.77  4.38  7.41\n",
      " 12.1   7.69  8.78  9.36  9.05 12.7   6.16  6.05 10.85  8.93  3.48 10.4\n",
      "  5.05 10.71  9.37  6.75  8.12 11.77 11.49 11.06 11.25 11.03 10.82  8.91\n",
      "  8.57  8.09 10.05 11.7  10.17  8.74  5.51 11.11  3.29 10.13  6.8   8.49\n",
      "  9.55 11.02  9.91  7.84 10.62  9.97  3.44  7.35  9.79  8.89  8.14  6.94\n",
      " 10.49 10.57 10.2   6.29  8.79 10.04 12.41 15.97  9.1  11.78 12.75 11.07\n",
      " 12.56  8.63  8.02 10.42  8.7   9.98  7.62  8.33  6.59 13.12 10.46  6.63\n",
      "  8.32  9.04  9.28 10.76  9.64 11.44  6.48 10.81 12.66 11.34  8.75 13.05\n",
      " 11.48 14.04 13.47  5.63  6.6   9.72 11.68  6.41  9.32 12.95 13.37  9.62\n",
      "  6.03  8.25  8.26 11.96  9.9   9.23  5.58  7.22  6.64 12.29 12.93 11.32\n",
      "  6.85  8.88  7.03  8.48  3.59  5.86  6.23  7.61  7.66 13.63  7.9  11.82\n",
      "  7.47  6.08  8.4   5.74 10.94 10.35 10.68  4.34  8.73  5.14  8.24  9.99\n",
      " 13.93  8.64 11.43  5.79  9.2  10.14 12.11  7.53 12.46  8.46  8.95  9.84\n",
      " 10.8  11.23 10.15  9.21 14.46  6.67 12.83  9.66  9.59 10.48  8.36  4.84\n",
      " 10.54  8.39  7.43  9.06  8.94 11.13  8.87  8.5   7.6  10.73  9.56 10.77\n",
      "  7.73  3.47 11.86  8.11  9.78  9.42  9.65  7.    7.39  9.88  6.56  5.92\n",
      "  6.95 15.71  8.06  4.86  7.8   8.58 10.06  5.21  6.92  6.15 13.49  9.38\n",
      " 12.62 12.26  8.19 11.65 11.62 10.83  7.92  7.33 13.01 13.26 12.22 11.58\n",
      "  5.97 10.99  8.38  9.17  8.08  5.71  3.41 12.63 11.79 12.96  7.64  6.58\n",
      " 10.84 10.22  6.52  5.55  7.63  5.11  5.89 10.78  3.05 11.89  8.97 10.44\n",
      " 10.5   9.35  5.66 11.09  9.83  5.44 10.11  6.39 11.93  8.62 12.06  6.02\n",
      "  8.85  5.25  8.66  6.73 10.21 11.59 13.87  7.77 10.39  5.54  6.62 13.33\n",
      "  6.24 12.59  6.3   6.79  8.28  9.03  8.07  5.52 12.14 10.59  7.54  7.67\n",
      "  5.47  8.81  8.51 13.45  8.77  6.43 12.01 12.08  7.07  6.51  6.84  9.48\n",
      " 13.78 11.54 11.67  8.13 10.79  7.13  4.72  4.64  8.96 13.03  6.07  3.51\n",
      "  6.83  6.12  9.31  9.58  4.68  5.32  9.26 11.52  9.11 10.55 11.47  9.3\n",
      " 13.82  8.44  5.77 10.96 11.74  8.9  10.47  7.85 10.92  4.74  9.74 10.43\n",
      "  9.96 10.18  9.54  7.89 12.36  8.54 10.07  9.46  7.3  11.16  9.16 10.19\n",
      "  5.99 10.88  5.8   7.19  4.55  8.31  8.01 14.43  8.3  14.3   6.53  8.2\n",
      " 11.31 13.    6.42  4.24  7.44  7.51 13.1   9.49  6.14  8.76  6.65 10.56\n",
      "  6.72  8.29 12.09  5.39  2.96  7.59  7.24  4.28  9.7   8.83 13.3  11.37\n",
      "  9.33  5.01  3.26 11.71  8.43  9.68 15.56  9.8   3.61  6.96 11.61 12.81\n",
      " 10.87 13.84  5.03  5.17  2.03 10.34  9.34  7.95 10.09  9.95  7.11  9.22\n",
      "  6.13 11.05  9.89  9.39 14.06 10.26 13.31 15.43 16.39  6.27 10.64 11.5\n",
      " 12.48  8.27 13.53 10.36 12.24  8.69 10.52  9.07 11.51  9.25  8.72  6.78\n",
      "  8.6  11.84  5.78  5.85 12.3   5.76 12.07  9.6   8.84 12.39 10.1   9.73\n",
      "  2.85  6.66  2.45  5.28 11.73 10.75  7.74  6.76  6.    7.58 13.69  7.93\n",
      "  7.68  9.75  4.96  5.49 11.83  7.18  9.19  7.7   7.25 10.74  4.27 13.8\n",
      "  9.12  4.75  7.78 11.63  7.55  2.25  9.45  9.86  7.71  4.95  7.4  11.17\n",
      " 11.33  6.82 13.7   1.97 10.89 12.77 10.31  5.23  5.27  9.41  6.09 10.61\n",
      "  7.29  4.23  7.57  3.67 12.69 14.5   5.95  7.87  5.96  5.94 12.23  4.9\n",
      " 12.33  6.89  9.67 12.68 12.87  3.7   6.04 13.13 15.74 11.87  4.7   4.67\n",
      "  7.05  5.42  4.09  5.73  9.47  8.05  6.87  3.71 15.86  7.49 11.69  6.46\n",
      " 10.45 12.9   5.41 11.26  1.04  6.49  6.37 12.21  6.77 12.65  7.86  9.44\n",
      "  4.3   7.38  5.02 10.63  2.86 17.19  8.67  8.37  6.9  10.93 10.38  7.36\n",
      " 10.27 10.95  6.11  4.45 11.9  15.01 12.84  7.45  6.98 11.72  7.56 11.38\n",
      " 10.    4.42  9.81  5.56  6.01 10.12 12.4  16.99  5.68 11.64  3.78  7.82\n",
      "  9.85 13.74 12.71 10.98 10.01  9.52  7.31  8.35 11.35  9.5  14.03  3.2\n",
      "  7.72 13.22 10.7   8.99 10.6  13.02  9.77 12.58 12.35 12.2  11.4  13.91\n",
      "  3.57 14.65 12.28  5.13 10.72 12.86 14.    7.12 12.17  4.71  6.28  8.\n",
      "  7.01  5.91  5.2  12.   12.02 12.88  7.28  5.4  12.04  5.24 10.3  10.41\n",
      " 13.41 12.72  9.08  7.08 13.5   5.35 12.45  5.3  10.32  5.15 12.67  5.22\n",
      "  5.57  3.94  4.41 13.27 10.24  4.25 12.89  5.72 12.5  11.29  3.25 11.53\n",
      "  9.82  7.26  4.1  10.37  4.98  6.74 12.52 14.56  8.34  3.82  3.86 13.97\n",
      " 11.57  6.5  13.58 14.32 13.75 11.14 14.18  9.13  4.46  4.83  9.69 14.13\n",
      "  7.16  7.98 13.66 14.78 11.2   9.93 11.    5.29  9.92  4.29 11.1  10.51\n",
      " 12.49  4.04 12.94  7.09  6.71  7.94  5.31  5.98  7.2  14.82 13.21 12.32\n",
      " 10.58  4.92  6.2   4.47 11.98  6.18  7.81  4.54  5.37  7.17  5.33 14.1\n",
      "  5.7  12.18  8.98  5.1  14.67 13.95 16.55 11.18  4.44  4.73  2.55  6.31\n",
      "  2.43  9.24  7.37 13.42 12.42 11.8  14.45  2.89 13.23 12.6  13.18 12.19\n",
      " 14.81  6.55 11.3  12.27 13.98  8.23 15.49  6.47 13.48 13.59 13.25 17.77\n",
      " 13.9   3.97 11.56 14.08 13.6   6.26  4.61 12.76 15.76  6.38  3.6  12.8\n",
      "  5.9   7.97  5.   10.97  5.88 12.34 12.03 14.97 15.06 12.85  6.54 11.24\n",
      " 12.64  7.06  5.38 13.14  3.99  3.32  4.51  4.12  3.93  2.4  11.75  4.03\n",
      " 15.85  6.81 14.25 14.09 16.42  6.7  12.74  2.76 12.12  6.99  6.68 11.81\n",
      "  7.96  5.06 13.16  2.13 13.17  5.12  5.65 12.37 10.53]\n",
      "[10.  13.7 12.2  6.6 10.1  6.3  7.5  7.1  8.7 11.2 12.7  9.1 12.3 13.1\n",
      "  5.4 13.8  8.1 13.  10.6  5.7  9.5  7.7 10.3 15.5 14.7 11.1 14.2 12.6\n",
      " 11.8  8.3 14.5 10.5  9.4 14.6  9.2  3.5  8.5 13.2  7.4  8.8 11.   7.8\n",
      "  6.8 11.4  9.3  9.7 10.2  8.   5.8 12.1 12.  11.6  8.2  6.2  7.3  6.1\n",
      " 11.7 15.   9.8 12.4  8.6 10.9 13.9  8.9  7.9  5.3  4.4 12.5 11.3  9.\n",
      "  9.6 13.3 20.   7.2  6.4 14.1 14.3  6.9 11.5 15.8 12.8 16.2  0.  11.9\n",
      "  9.9  8.4 10.8 13.4 10.7 17.6  4.7  2.7 13.5 12.9 14.4 10.4  6.7 15.4\n",
      "  4.5  6.5 15.6  5.9 18.9  7.6  5.   7.  14.  18.  16.  14.8  3.7  2.\n",
      "  4.8 15.3  6.  13.6 17.2 17.5  5.6 18.2  3.6 16.5  4.6  5.1  4.1 16.3\n",
      " 14.9 16.4 16.7  1.3 15.2 15.1 15.9  5.5 16.1  4.  16.9  5.2  4.2 15.7\n",
      " 17.   3.9  3.8  2.2 17.1  4.9 17.9 17.3 18.4 17.8  4.3  2.9  3.1  3.3\n",
      "  2.6  3.4  1.1 18.3 16.6  2.1  2.4  2.5]\n",
      "[ 3  5  7  6  4  2  9 19  1 10 15  8 11  0 12 13 18 14 16 20 17]\n",
      "[2.7  3.7  3.29 1.78 2.73 1.7  2.03 1.92 2.35 3.02 3.43 2.46 3.32 3.54\n",
      " 1.46 3.73 2.19 3.51 2.86 1.54 2.57 2.08 2.78 4.19 3.97 3.   3.83 3.4\n",
      " 3.19 2.24 3.92 2.84 2.54 3.94 2.48 0.95 2.3  3.56 2.   2.38 2.97 2.11\n",
      " 1.84 3.08 2.51 2.62 2.75 2.16 1.57 3.27 3.24 3.13 2.21 1.67 1.97 1.65\n",
      " 3.16 4.05 2.65 3.35 2.32 2.94 3.75 2.4  2.13 1.43 1.19 3.38 3.05 2.43\n",
      " 2.59 3.59 5.4  1.94 1.73 3.81 3.86 1.86 3.11 4.27 3.46 4.37 0.   3.21\n",
      " 2.67 2.27 2.92 3.62 2.89 4.75 1.27 0.73 3.65 3.48 3.89 2.81 1.81 4.16\n",
      " 1.22 1.76 4.21 1.59 5.1  2.05 1.35 1.89 3.78 4.86 4.32 4.   1.   0.54\n",
      " 1.3  4.13 1.62 3.67 4.64 4.73 1.51 4.91 0.97 4.46 1.24 1.38 1.11 4.4\n",
      " 4.02 4.43 4.51 0.35 4.1  4.08 4.29 1.49 4.35 1.08 4.56 1.4  1.13 4.24\n",
      " 4.59 1.05 1.03 0.59 4.62 1.32 4.83 4.67 4.97 4.81 1.16 0.78 0.84 0.89\n",
      " 0.7  0.92 0.3  4.94 4.48 0.57 0.65 0.68]\n",
      "[1 0 2 3 4 5 7 9 6 8]\n",
      "[False  True]\n"
     ]
    }
   ],
   "source": [
    "#check if the data type is correct or not\n",
    "for col in df0.columns:\n",
    "    print(df0[col].unique())"
   ]
  },
  {
   "cell_type": "code",
   "execution_count": 14,
   "metadata": {},
   "outputs": [],
   "source": [
    "# drop the unwanted column, phone number is like an ID, with no valid information for the model\n",
    "df0 = df0.drop([\"phone number\"],axis =1) "
   ]
  },
  {
   "cell_type": "code",
   "execution_count": 15,
   "metadata": {},
   "outputs": [
    {
     "data": {
      "text/html": [
       "<div>\n",
       "<style scoped>\n",
       "    .dataframe tbody tr th:only-of-type {\n",
       "        vertical-align: middle;\n",
       "    }\n",
       "\n",
       "    .dataframe tbody tr th {\n",
       "        vertical-align: top;\n",
       "    }\n",
       "\n",
       "    .dataframe thead th {\n",
       "        text-align: right;\n",
       "    }\n",
       "</style>\n",
       "<table border=\"1\" class=\"dataframe\">\n",
       "  <thead>\n",
       "    <tr style=\"text-align: right;\">\n",
       "      <th></th>\n",
       "      <th>0</th>\n",
       "      <th>1</th>\n",
       "      <th>2</th>\n",
       "      <th>3</th>\n",
       "      <th>4</th>\n",
       "    </tr>\n",
       "  </thead>\n",
       "  <tbody>\n",
       "    <tr>\n",
       "      <th>state</th>\n",
       "      <td>KS</td>\n",
       "      <td>OH</td>\n",
       "      <td>NJ</td>\n",
       "      <td>OH</td>\n",
       "      <td>OK</td>\n",
       "    </tr>\n",
       "    <tr>\n",
       "      <th>account length</th>\n",
       "      <td>128</td>\n",
       "      <td>107</td>\n",
       "      <td>137</td>\n",
       "      <td>84</td>\n",
       "      <td>75</td>\n",
       "    </tr>\n",
       "    <tr>\n",
       "      <th>area code</th>\n",
       "      <td>415</td>\n",
       "      <td>415</td>\n",
       "      <td>415</td>\n",
       "      <td>408</td>\n",
       "      <td>415</td>\n",
       "    </tr>\n",
       "    <tr>\n",
       "      <th>international plan</th>\n",
       "      <td>no</td>\n",
       "      <td>no</td>\n",
       "      <td>no</td>\n",
       "      <td>yes</td>\n",
       "      <td>yes</td>\n",
       "    </tr>\n",
       "    <tr>\n",
       "      <th>voice mail plan</th>\n",
       "      <td>yes</td>\n",
       "      <td>yes</td>\n",
       "      <td>no</td>\n",
       "      <td>no</td>\n",
       "      <td>no</td>\n",
       "    </tr>\n",
       "    <tr>\n",
       "      <th>number vmail messages</th>\n",
       "      <td>25</td>\n",
       "      <td>26</td>\n",
       "      <td>0</td>\n",
       "      <td>0</td>\n",
       "      <td>0</td>\n",
       "    </tr>\n",
       "    <tr>\n",
       "      <th>total day minutes</th>\n",
       "      <td>265.1</td>\n",
       "      <td>161.6</td>\n",
       "      <td>243.4</td>\n",
       "      <td>299.4</td>\n",
       "      <td>166.7</td>\n",
       "    </tr>\n",
       "    <tr>\n",
       "      <th>total day calls</th>\n",
       "      <td>110</td>\n",
       "      <td>123</td>\n",
       "      <td>114</td>\n",
       "      <td>71</td>\n",
       "      <td>113</td>\n",
       "    </tr>\n",
       "    <tr>\n",
       "      <th>total day charge</th>\n",
       "      <td>45.07</td>\n",
       "      <td>27.47</td>\n",
       "      <td>41.38</td>\n",
       "      <td>50.9</td>\n",
       "      <td>28.34</td>\n",
       "    </tr>\n",
       "    <tr>\n",
       "      <th>total eve minutes</th>\n",
       "      <td>197.4</td>\n",
       "      <td>195.5</td>\n",
       "      <td>121.2</td>\n",
       "      <td>61.9</td>\n",
       "      <td>148.3</td>\n",
       "    </tr>\n",
       "    <tr>\n",
       "      <th>total eve calls</th>\n",
       "      <td>99</td>\n",
       "      <td>103</td>\n",
       "      <td>110</td>\n",
       "      <td>88</td>\n",
       "      <td>122</td>\n",
       "    </tr>\n",
       "    <tr>\n",
       "      <th>total eve charge</th>\n",
       "      <td>16.78</td>\n",
       "      <td>16.62</td>\n",
       "      <td>10.3</td>\n",
       "      <td>5.26</td>\n",
       "      <td>12.61</td>\n",
       "    </tr>\n",
       "    <tr>\n",
       "      <th>total night minutes</th>\n",
       "      <td>244.7</td>\n",
       "      <td>254.4</td>\n",
       "      <td>162.6</td>\n",
       "      <td>196.9</td>\n",
       "      <td>186.9</td>\n",
       "    </tr>\n",
       "    <tr>\n",
       "      <th>total night calls</th>\n",
       "      <td>91</td>\n",
       "      <td>103</td>\n",
       "      <td>104</td>\n",
       "      <td>89</td>\n",
       "      <td>121</td>\n",
       "    </tr>\n",
       "    <tr>\n",
       "      <th>total night charge</th>\n",
       "      <td>11.01</td>\n",
       "      <td>11.45</td>\n",
       "      <td>7.32</td>\n",
       "      <td>8.86</td>\n",
       "      <td>8.41</td>\n",
       "    </tr>\n",
       "    <tr>\n",
       "      <th>total intl minutes</th>\n",
       "      <td>10</td>\n",
       "      <td>13.7</td>\n",
       "      <td>12.2</td>\n",
       "      <td>6.6</td>\n",
       "      <td>10.1</td>\n",
       "    </tr>\n",
       "    <tr>\n",
       "      <th>total intl calls</th>\n",
       "      <td>3</td>\n",
       "      <td>3</td>\n",
       "      <td>5</td>\n",
       "      <td>7</td>\n",
       "      <td>3</td>\n",
       "    </tr>\n",
       "    <tr>\n",
       "      <th>total intl charge</th>\n",
       "      <td>2.7</td>\n",
       "      <td>3.7</td>\n",
       "      <td>3.29</td>\n",
       "      <td>1.78</td>\n",
       "      <td>2.73</td>\n",
       "    </tr>\n",
       "    <tr>\n",
       "      <th>customer service calls</th>\n",
       "      <td>1</td>\n",
       "      <td>1</td>\n",
       "      <td>0</td>\n",
       "      <td>2</td>\n",
       "      <td>3</td>\n",
       "    </tr>\n",
       "    <tr>\n",
       "      <th>churn</th>\n",
       "      <td>False</td>\n",
       "      <td>False</td>\n",
       "      <td>False</td>\n",
       "      <td>False</td>\n",
       "      <td>False</td>\n",
       "    </tr>\n",
       "  </tbody>\n",
       "</table>\n",
       "</div>"
      ],
      "text/plain": [
       "                            0      1      2      3      4\n",
       "state                      KS     OH     NJ     OH     OK\n",
       "account length            128    107    137     84     75\n",
       "area code                 415    415    415    408    415\n",
       "international plan         no     no     no    yes    yes\n",
       "voice mail plan           yes    yes     no     no     no\n",
       "number vmail messages      25     26      0      0      0\n",
       "total day minutes       265.1  161.6  243.4  299.4  166.7\n",
       "total day calls           110    123    114     71    113\n",
       "total day charge        45.07  27.47  41.38   50.9  28.34\n",
       "total eve minutes       197.4  195.5  121.2   61.9  148.3\n",
       "total eve calls            99    103    110     88    122\n",
       "total eve charge        16.78  16.62   10.3   5.26  12.61\n",
       "total night minutes     244.7  254.4  162.6  196.9  186.9\n",
       "total night calls          91    103    104     89    121\n",
       "total night charge      11.01  11.45   7.32   8.86   8.41\n",
       "total intl minutes         10   13.7   12.2    6.6   10.1\n",
       "total intl calls            3      3      5      7      3\n",
       "total intl charge         2.7    3.7   3.29   1.78   2.73\n",
       "customer service calls      1      1      0      2      3\n",
       "churn                   False  False  False  False  False"
      ]
     },
     "execution_count": 15,
     "metadata": {},
     "output_type": "execute_result"
    }
   ],
   "source": [
    "df0.head().T"
   ]
  },
  {
   "cell_type": "markdown",
   "metadata": {},
   "source": [
    "## Explore the data"
   ]
  },
  {
   "cell_type": "code",
   "execution_count": 16,
   "metadata": {},
   "outputs": [
    {
     "data": {
      "text/plain": [
       "14.491449144914492"
      ]
     },
     "execution_count": 16,
     "metadata": {},
     "output_type": "execute_result"
    }
   ],
   "source": [
    "#find the churn rate \n",
    "df0[\"churn\"].value_counts()[1]/len(df0)*100 "
   ]
  },
  {
   "cell_type": "code",
   "execution_count": 17,
   "metadata": {},
   "outputs": [],
   "source": [
    "# # pie chart for readme\n",
    "# fig = plt.gcf()\n",
    "# fig.set_size_inches(7,7)\n",
    "# colors = [\"cyan\", \"yellow\"]\n",
    "# plt.pie(df0[\"churn\"].value_counts(),labels=('Stay','Go'),explode = [0.1,0],autopct ='%1.1f%%' ,\n",
    "#         shadow = True,startangle = 90,labeldistance = 1.1,colors=colors)\n",
    "# plt.axis('equal')\n",
    "# plt.title(\"Should I Stay or Should I Go \", fontsize=17)\n",
    "# plt.savefig(\"images/Should I Stay or Should I Go.png\")\n",
    "# plt.show()"
   ]
  },
  {
   "cell_type": "code",
   "execution_count": 18,
   "metadata": {},
   "outputs": [
    {
     "data": {
      "image/png": "[encoded data removed]",
      "text/plain": [
       "<Figure size 720x576 with 1 Axes>"
      ]
     },
     "metadata": {
      "needs_background": "light"
     },
     "output_type": "display_data"
    }
   ],
   "source": [
    "# the target is an imbalance, 86% False and 14% True, so there is an 86% chance that the model will predict False\n",
    "df0[\"churn\"].value_counts(normalize =True).plot(kind=\"bar\",figsize=(10,8));\n",
    "plt.title(\"Should I Stay or Should I Go \", fontsize=17)\n",
    "plt.ylabel(\"Churn rate\",fontsize=15)\n",
    "plt.xticks(rotation=0)\n",
    "plt.show()"
   ]
  },
  {
   "cell_type": "code",
   "execution_count": 19,
   "metadata": {},
   "outputs": [
    {
     "data": {
      "text/plain": [
       "(array([0, 1, 2]), [Text(0, 0, '408'), Text(1, 0, '415'), Text(2, 0, '510')])"
      ]
     },
     "execution_count": 19,
     "metadata": {},
     "output_type": "execute_result"
    },
    {
     "data": {
      "image/png": "[encoded data removed]",
      "text/plain": [
       "<Figure size 720x576 with 1 Axes>"
      ]
     },
     "metadata": {
      "needs_background": "light"
     },
     "output_type": "display_data"
    }
   ],
   "source": [
    "# Plot Customer Churn by Area Code without normalization\n",
    "df0.groupby([\"area code\", \"churn\"]).size().unstack().plot(kind='bar', figsize=(10,8))\n",
    "plt.xticks(rotation=0)\n",
    "# almost half of the customers have  area code 415"
   ]
  },
  {
   "cell_type": "code",
   "execution_count": 20,
   "metadata": {},
   "outputs": [
    {
     "data": {
      "image/png": "[encoded data removed]",
      "text/plain": [
       "<Figure size 504x504 with 1 Axes>"
      ]
     },
     "metadata": {
      "needs_background": "light"
     },
     "output_type": "display_data"
    }
   ],
   "source": [
    "# Plot Customer Churn by Area Code without with normalization\n",
    "x,y = 'area code', 'churn'\n",
    "\n",
    "df2 = df0.groupby(x)[y].value_counts(normalize=True)\n",
    "df2 = df2.mul(100)\n",
    "df2 = df2.rename('Percentage').reset_index()\n",
    "\n",
    "\n",
    "g = sns.catplot(x=x,y='Percentage',hue=y,kind='bar',data=df2,legend_out=False,height=7, aspect=1)\n",
    "g.ax.set_ylim(0,100)\n",
    "\n",
    "for p in g.ax.patches:\n",
    "    txt = str(p.get_height().round(2)) + '%'\n",
    "    txt_x = p.get_x() \n",
    "    txt_y = p.get_height()\n",
    "    g.ax.text(txt_x,txt_y,txt)\n",
    "plt.xlabel('Area Code', fontsize=15)\n",
    "plt.ylabel('Percentage', fontsize=15)\n",
    "plt.title('Customer Churn by Area Code', fontsize=20)\n",
    "plt.show()    \n",
    "#after normalize the value counts of the area code, it is clear that the churn rate is almost the same in all areas.\n",
    "# so area code doesn't have any significant effect on the customer churn"
   ]
  },
  {
   "cell_type": "code",
   "execution_count": 21,
   "metadata": {},
   "outputs": [
    {
     "data": {
      "text/plain": [
       "(array([0, 1]), [Text(0, 0, 'no'), Text(1, 0, 'yes')])"
      ]
     },
     "execution_count": 21,
     "metadata": {},
     "output_type": "execute_result"
    },
    {
     "data": {
      "image/png": "[encoded data removed]",
      "text/plain": [
       "<Figure size 720x576 with 1 Axes>"
      ]
     },
     "metadata": {
      "needs_background": "light"
     },
     "output_type": "display_data"
    }
   ],
   "source": [
    "# plot Customer Churn with International Plan without normalization\n",
    "df0.groupby([\"international plan\", \"churn\"]).size().unstack().plot(kind='bar', figsize=(10,8))\n",
    "plt.xticks(rotation=0)\n",
    "# almost half of the customers have  area code 415"
   ]
  },
  {
   "cell_type": "code",
   "execution_count": 22,
   "metadata": {},
   "outputs": [
    {
     "data": {
      "image/png": "[encoded data removed]",
      "text/plain": [
       "<Figure size 504x504 with 1 Axes>"
      ]
     },
     "metadata": {
      "needs_background": "light"
     },
     "output_type": "display_data"
    }
   ],
   "source": [
    "# plot Customer Churn with International Plan with normalization\n",
    "x,y = 'international plan', 'churn'\n",
    "\n",
    "df1 = df0.groupby(x)[y].value_counts(normalize=True)\n",
    "df1 = df1.mul(100)\n",
    "df1 = df1.rename('Percentage').reset_index()\n",
    "\n",
    "\n",
    "g = sns.catplot(x=x,y='Percentage',hue=y,kind='bar',data=df1,legend_out=False,height=7, aspect=1)\n",
    "g.ax.set_ylim(0,100)\n",
    "\n",
    "for p in g.ax.patches:\n",
    "    txt = str(p.get_height().round(2)) + '%'\n",
    "    txt_x = p.get_x() \n",
    "    txt_y = p.get_height()\n",
    "    g.ax.text(txt_x,txt_y,txt)\n",
    "plt.title('Customer Churn with International Plan', fontsize=20)    \n",
    "plt.xlabel('International Plan', fontsize=15)\n",
    "plt.ylabel('Percentage', fontsize=15)\n",
    "plt.savefig(\"images/International_Plan.png\",bbox_inches=\"tight\")\n",
    "plt.show()    \n",
    "\n",
    "#42% of the customers who have an international plan will leave, so Syriatel should work on their international plan\n",
    "   \n",
    "# https://stackoverflow.com/questions/34615854/seaborn-countplot-with-normalized-y-axis-per-group"
   ]
  },
  {
   "cell_type": "code",
   "execution_count": 23,
   "metadata": {},
   "outputs": [
    {
     "data": {
      "text/plain": [
       "(array([0, 1]), [Text(0, 0, 'no'), Text(1, 0, 'yes')])"
      ]
     },
     "execution_count": 23,
     "metadata": {},
     "output_type": "execute_result"
    },
    {
     "data": {
      "image/png": "[encoded data removed]",
      "text/plain": [
       "<Figure size 720x576 with 1 Axes>"
      ]
     },
     "metadata": {
      "needs_background": "light"
     },
     "output_type": "display_data"
    }
   ],
   "source": [
    "# Plot Customer Churn with Voice Mail Plan without normalization\n",
    "df0.groupby([\"voice mail plan\", \"churn\"]).size().unstack().plot(kind='bar', figsize=(10,8))\n",
    "plt.xticks(rotation=0)\n"
   ]
  },
  {
   "cell_type": "code",
   "execution_count": 24,
   "metadata": {},
   "outputs": [
    {
     "data": {
      "image/png": "[encoded data removed]",
      "text/plain": [
       "<Figure size 504x504 with 1 Axes>"
      ]
     },
     "metadata": {
      "needs_background": "light"
     },
     "output_type": "display_data"
    }
   ],
   "source": [
    "# Plot Customer Churn with Voice Mail Plan with normalization\n",
    "x,y = 'voice mail plan', 'churn'\n",
    "\n",
    "df3 = df0.groupby(x)[y].value_counts(normalize=True)\n",
    "df3 = df3.mul(100)\n",
    "df3 = df3.rename('Percentage').reset_index()\n",
    "\n",
    "\n",
    "g = sns.catplot(x=x,y='Percentage',hue=y,kind='bar',data=df3,legend_out=False,height=7, aspect=1)\n",
    "g.ax.set_ylim(0,100)\n",
    "\n",
    "for p in g.ax.patches:\n",
    "    txt = str(p.get_height().round(2)) + '%'\n",
    "    txt_x = p.get_x() \n",
    "    txt_y = p.get_height()\n",
    "    g.ax.text(txt_x,txt_y,txt)\n",
    "plt.xlabel('Voice Mail Plan', fontsize=15)\n",
    "plt.ylabel('Percentage', fontsize=15)\n",
    "plt.title('Customer Churn with Voice Mail Plan', fontsize=17)\n",
    "plt.show()    \n",
    "# only 9% of the customers who have voice mail plan will churn\n",
    "# so Syriatel should offer a free voice plan to all customers "
   ]
  },
  {
   "cell_type": "code",
   "execution_count": 25,
   "metadata": {},
   "outputs": [
    {
     "name": "stderr",
     "output_type": "stream",
     "text": [
      "posx and posy should be finite values\n",
      "posx and posy should be finite values\n",
      "posx and posy should be finite values\n",
      "posx and posy should be finite values\n",
      "posx and posy should be finite values\n"
     ]
    },
    {
     "data": {
      "image/png": "[encoded data removed]",
      "text/plain": [
       "<Figure size 504x504 with 1 Axes>"
      ]
     },
     "metadata": {
      "needs_background": "light"
     },
     "output_type": "display_data"
    }
   ],
   "source": [
    "# Plot Customer Churn based on Number of Calls to Customer Services with normalization\n",
    "x,y = 'customer service calls', 'churn'\n",
    "\n",
    "df3 = df0.groupby(x)[y].value_counts(normalize=True)\n",
    "df3 = df3.mul(100)\n",
    "df3 = df3.rename('Percentage').reset_index()\n",
    "\n",
    "\n",
    "g = sns.catplot(x=x,y='Percentage',hue=y,kind='bar',data=df3,legend_out=False,height=7, aspect=1)\n",
    "g.ax.set_ylim(0,100)\n",
    "\n",
    "for p in g.ax.patches:\n",
    "    txt = str(p.get_height().round(2)) + '%'\n",
    "    txt_x = p.get_x() \n",
    "    txt_y = p.get_height()\n",
    "    g.ax.text(txt_x,txt_y,txt)\n",
    "plt.xlabel('Number of Calls to Customer Services', fontsize=15)\n",
    "plt.ylabel('Churn Rate', fontsize=15)\n",
    "plt.title('Customer Churn based on Number of Calls to Customer Services', fontsize=12)\n",
    "plt.savefig(\"images/Customer_Services_calls.png\",bbox_inches=\"tight\")\n",
    "plt.show()    \n",
    "\n",
    "# customers are more likely to leave if they call customer service more than three times.\n",
    "# more training to the customer service department is required"
   ]
  },
  {
   "cell_type": "code",
   "execution_count": 26,
   "metadata": {},
   "outputs": [
    {
     "data": {
      "image/png": "[encoded data removed]",
      "text/plain": [
       "<Figure size 1080x1080 with 1 Axes>"
      ]
     },
     "metadata": {
      "needs_background": "light"
     },
     "output_type": "display_data"
    }
   ],
   "source": [
    "# plot Customer Churn based on state\n",
    "x,y = 'state', 'churn'\n",
    "\n",
    "df4 = df0.groupby(x)[y].value_counts(normalize=True)\n",
    "df4 = df4.mul(100)\n",
    "df4 = df4.rename('Percentage').reset_index()\n",
    "\n",
    "\n",
    "g = sns.catplot(x=x,y='Percentage',hue=y,kind='bar',data=df4,legend_out=False,height=15, aspect=1)\n",
    "g.ax.set_ylim(0,100)\n",
    "\n",
    "for p in g.ax.patches:\n",
    "    txt = str(p.get_height().round(2)) + '%'\n",
    "    txt_x = p.get_x() \n",
    "    txt_y = p.get_height()\n",
    "    g.ax.text(txt_x,txt_y,txt)\n",
    "plt.xlabel('State', fontsize=15)\n",
    "plt.ylabel('Percentage', fontsize=15)\n",
    "plt.title('Customer Churn based on state', fontsize=17)\n",
    "plt.show()    \n",
    "# the top 5 churn's state are California, New Jersey, Texas, Maryland, and South Carolina,\n",
    "# maybe they have bad coverage or competitive provider at those states \n",
    "# so customer service should pay special attention to those states"
   ]
  },
  {
   "cell_type": "code",
   "execution_count": 27,
   "metadata": {},
   "outputs": [],
   "source": [
    "# drop the unwanted column, area code has no valid information for our model\n",
    "df0 = df0.drop([\"area code\"],axis =1) "
   ]
  },
  {
   "cell_type": "markdown",
   "metadata": {},
   "source": [
    "### Metric\n",
    "\n",
    "$$ \\text{Recall} = \\frac{\\text{Number of True Positives}}{\\text{Number of Actual Total Positives}} $$  \n",
    "\n",
    "$$ \\text{Recall} = \\frac{\\text{TP}}{\\text{TP+FN}} $$  \n",
    "\n",
    "The most important metric for customer churn is recall score because I want to lower the False-negative, I don't want to predict that this customer is going to stay while in fact, he/she is leaving. This will cause losing a customer and money because Keeping the current customers is less expensive than bringing new ones.\n"
   ]
  },
  {
   "cell_type": "code",
   "execution_count": 28,
   "metadata": {},
   "outputs": [],
   "source": [
    "def evaluate(estimator, X_train, X_test, y_train, y_test, use_decision_function='yes'):\n",
    "    '''\n",
    "    Evaluation function to show a few scores for both the train and test set\n",
    "    Also shows a confusion matrix for the test set\n",
    "    \n",
    "    use_decision_function allows you to toggle whether you use decision_function or\n",
    "    predict_proba in order to get the output needed for roc_auc_score\n",
    "    If use_decision_function == 'skip', then it ignores calculating the roc_auc_score\n",
    "    '''\n",
    "    # grab predictions\n",
    "    train_preds = estimator.predict(X_train)\n",
    "    test_preds = estimator.predict(X_test)\n",
    "    \n",
    "    # output needed for roc_auc_score\n",
    "    if use_decision_function == 'skip': # skips calculating the roc_auc_score\n",
    "        train_out = False\n",
    "        test_out = False\n",
    "    elif use_decision_function == 'yes': # not all classifiers have decision_function\n",
    "        train_out = estimator.decision_function(X_train)\n",
    "        test_out = estimator.decision_function(X_test)\n",
    "    elif use_decision_function == 'no':\n",
    "        train_out = estimator.predict_proba(X_train)[:, 1] # proba for the 1 class\n",
    "        test_out = estimator.predict_proba(X_test)[:, 1]\n",
    "    else:\n",
    "        raise Exception (\"The value for use_decision_function should be 'skip', 'yes' or 'no'.\")\n",
    "\n",
    "    print(type(test_out))\n",
    "    \n",
    "    # print scores\n",
    "    print(\"Train Scores\")\n",
    "    print(\"------------\")\n",
    "    print(f\"Recall: {recall_score(y_train, train_preds)}\")\n",
    "    print(f\"Precision: {precision_score(y_train, train_preds)}\")\n",
    "    print(f\"Accuracy: {accuracy_score(y_train, train_preds)}\")\n",
    "    print(f\"F1 Score: {f1_score(y_train, train_preds)}\")\n",
    "    if type(train_out) == np.ndarray:\n",
    "        print(f\"ROC-AUC: {roc_auc_score(y_train, train_out)}\")\n",
    "    print(\"----\" * 5)\n",
    "    print(\"Test Scores\")\n",
    "    print(\"-----------\")\n",
    "    print(f\"Recall: {recall_score(y_test, test_preds)}\")\n",
    "    print(f\"Precision: {precision_score(y_test, test_preds)}\")\n",
    "    print(f\"Accuracy: {accuracy_score(y_test, test_preds)}\")\n",
    "    print(f\"F1 Score: {f1_score(y_test, test_preds)}\")\n",
    "    if type(test_out) == np.ndarray:\n",
    "        print(f\"ROC-AUC: {roc_auc_score(y_test, test_out)}\")\n",
    "    \n",
    "    # plot test confusion matrix\n",
    "    plot_confusion_matrix(estimator, X_test, y_test)\n",
    "    plt.show()"
   ]
  },
  {
   "cell_type": "code",
   "execution_count": 29,
   "metadata": {},
   "outputs": [],
   "source": [
    "# spliting the data to training and testing data (df0)\n",
    "# and validation data which I will keep aside for model validation later\n",
    "df, df_val1 = train_test_split(df0, test_size= 0.1, random_state=10)"
   ]
  },
  {
   "cell_type": "code",
   "execution_count": 30,
   "metadata": {},
   "outputs": [
    {
     "data": {
      "text/plain": [
       "(334, 19)"
      ]
     },
     "execution_count": 30,
     "metadata": {},
     "output_type": "execute_result"
    }
   ],
   "source": [
    "df_val1.shape"
   ]
  },
  {
   "cell_type": "code",
   "execution_count": 31,
   "metadata": {},
   "outputs": [],
   "source": [
    "# creat X and y\n",
    "y = df[\"churn\"]\n",
    "X = df.drop([\"churn\"],axis =1)"
   ]
  },
  {
   "cell_type": "code",
   "execution_count": 32,
   "metadata": {},
   "outputs": [],
   "source": [
    "# Train test split\n",
    "X_train, X_test, y_train, y_test = train_test_split(X, y,test_size=0.15, random_state=33)"
   ]
  },
  {
   "cell_type": "code",
   "execution_count": 33,
   "metadata": {},
   "outputs": [],
   "source": [
    "# preprocessing the data\n",
    "\n",
    "# grab numeric columns, object columns with fewer than 10 for OHE\n",
    "# grab columns with more than 10 value for frequency counter\n",
    "\n",
    "num_cols = []\n",
    "ohe_cols = []\n",
    "freq_cols = []\n",
    "    \n",
    "for c in X.columns:\n",
    "    if df[c].dtype in ['float64', 'int64']:\n",
    "        num_cols.append(c)\n",
    "    elif len(X[c].unique()) <= 10:\n",
    "        ohe_cols.append(c)\n",
    "    else:\n",
    "        freq_cols.append(c)"
   ]
  },
  {
   "cell_type": "code",
   "execution_count": 34,
   "metadata": {},
   "outputs": [
    {
     "name": "stdout",
     "output_type": "stream",
     "text": [
      "Numeric: ['account length', 'number vmail messages', 'total day minutes', 'total day calls', 'total day charge', 'total eve minutes', 'total eve calls', 'total eve charge', 'total night minutes', 'total night calls', 'total night charge', 'total intl minutes', 'total intl calls', 'total intl charge', 'customer service calls']\n",
      "To OHE: ['international plan', 'voice mail plan']\n",
      "To Frequency Encode: ['state']\n"
     ]
    }
   ],
   "source": [
    "# Check our work\n",
    "print(f\"Numeric: {num_cols}\")\n",
    "print(f\"To OHE: {ohe_cols}\")\n",
    "print(f\"To Frequency Encode: {freq_cols}\")"
   ]
  },
  {
   "cell_type": "code",
   "execution_count": 35,
   "metadata": {},
   "outputs": [],
   "source": [
    "# Now, set up the preprocessing steps for each type of col\n",
    "num_transformer = Pipeline(steps=[('scaler', StandardScaler())])\n",
    "\n",
    "ohe_transformer = Pipeline(steps=[('ohe', OneHotEncoder())])\n",
    "\n",
    "freq_transformer = Pipeline(steps=[('freq_enc', ce.CountEncoder(normalize=True,\n",
    "                                 min_group_size=0.001,\n",
    "                                 min_group_name='Other'))])\n",
    "\n",
    "# Put together our preprocessor using a Column Transformer\n",
    "preprocessor = ColumnTransformer(\n",
    "    transformers=[\n",
    "        ('num', num_transformer, num_cols),\n",
    "        ('cat_ohe', ohe_transformer, ohe_cols), \n",
    "        ('cat_freq', freq_transformer, freq_cols)])\n"
   ]
  },
  {
   "cell_type": "markdown",
   "metadata": {},
   "source": [
    "## Modeling"
   ]
  },
  {
   "cell_type": "markdown",
   "metadata": {},
   "source": [
    "## Logistic Regression"
   ]
  },
  {
   "cell_type": "code",
   "execution_count": 36,
   "metadata": {},
   "outputs": [
    {
     "data": {
      "text/plain": [
       "Pipeline(steps=[('preprocessor',\n",
       "                 ColumnTransformer(transformers=[('num',\n",
       "                                                  Pipeline(steps=[('scaler',\n",
       "                                                                   StandardScaler())]),\n",
       "                                                  ['account length',\n",
       "                                                   'number vmail messages',\n",
       "                                                   'total day minutes',\n",
       "                                                   'total day calls',\n",
       "                                                   'total day charge',\n",
       "                                                   'total eve minutes',\n",
       "                                                   'total eve calls',\n",
       "                                                   'total eve charge',\n",
       "                                                   'total night minutes',\n",
       "                                                   'total night calls',\n",
       "                                                   'total night charge',\n",
       "                                                   'total intl minutes',\n",
       "                                                   'total intl calls',\n",
       "                                                   'total intl charge',\n",
       "                                                   'customer service calls']),\n",
       "                                                 ('cat_ohe',\n",
       "                                                  Pipeline(steps=[('ohe',\n",
       "                                                                   OneHotEncoder())]),\n",
       "                                                  ['international plan',\n",
       "                                                   'voice mail plan']),\n",
       "                                                 ('cat_freq',\n",
       "                                                  Pipeline(steps=[('freq_enc',\n",
       "                                                                   CountEncoder(combine_min_nan_groups=True,\n",
       "                                                                                min_group_name='Other',\n",
       "                                                                                min_group_size=0.001,\n",
       "                                                                                normalize=True))]),\n",
       "                                                  ['state'])])),\n",
       "                ('clf', LogisticRegression(class_weight='balanced'))])"
      ]
     },
     "execution_count": 36,
     "metadata": {},
     "output_type": "execute_result"
    }
   ],
   "source": [
    "#  prediction pipeline.\n",
    "lr_pipe = Pipeline([('preprocessor', preprocessor),\n",
    "                             ('clf', LogisticRegression(class_weight=\"balanced\"))])\n",
    "\n",
    "\n",
    "lr_pipe.fit(X_train, y_train)"
   ]
  },
  {
   "cell_type": "markdown",
   "metadata": {},
   "source": [
    "I used Minmax scaler and Standard scaler and got the same result for both scalers: recall 76% on the train and 79% on the test.  For the accuracy score, I got 77 % training and 77 % on test data. the dumb model can predict a better than the logistic regression model 85 % accuracy score, I've changed different hyperparameter, but everything makes it worth"
   ]
  },
  {
   "cell_type": "code",
   "execution_count": 37,
   "metadata": {},
   "outputs": [
    {
     "name": "stdout",
     "output_type": "stream",
     "text": [
      "<class 'numpy.ndarray'>\n",
      "Train Scores\n",
      "------------\n",
      "Recall: 0.7552083333333334\n",
      "Precision: 0.3756476683937824\n",
      "Accuracy: 0.774029030992546\n",
      "F1 Score: 0.5017301038062283\n",
      "ROC-AUC: 0.8256038298691303\n",
      "--------------------\n",
      "Test Scores\n",
      "-----------\n",
      "Recall: 0.7962962962962963\n",
      "Precision: 0.3006993006993007\n",
      "Accuracy: 0.7533333333333333\n",
      "F1 Score: 0.4365482233502538\n",
      "ROC-AUC: 0.8128039655817434\n"
     ]
    },
    {
     "data": {
      "image/png": "[encoded data removed]",
      "text/plain": [
       "<Figure size 432x288 with 2 Axes>"
      ]
     },
     "metadata": {
      "needs_background": "light"
     },
     "output_type": "display_data"
    }
   ],
   "source": [
    "# Evaluate\n",
    "evaluate(lr_pipe, X_train, X_test, y_train, y_test)"
   ]
  },
  {
   "cell_type": "code",
   "execution_count": 38,
   "metadata": {},
   "outputs": [],
   "source": [
    "# # Define the grid\n",
    "# param_grid = {\n",
    "#     \"clf__penalty\": ['l1', 'l2','elasticnet', 'none'], \n",
    "#     'clf__C':[0.001,.009,0.01,.09,1,5,10,25],\n",
    "#     \"clf__fit_intercept\" :[True, False],\n",
    "#     \"clf__solver\" : ['newton-cg', 'lbfgs', 'liblinear', 'sag', 'saga']\n",
    "   \n",
    "# }\n",
    "# gridsearch = GridSearchCV(lr_pipe, \n",
    "#                           param_grid=param_grid, \n",
    "#                           scoring='recall',\n",
    "#                           cv=3)\n",
    "# Fit the training data\n",
    "#gridsearch.fit(X_train, y_train)"
   ]
  },
  {
   "cell_type": "code",
   "execution_count": 39,
   "metadata": {},
   "outputs": [],
   "source": [
    "#gridsearch.best_params_\n",
    "# {'clf__C': 0.001,\n",
    "#  'clf__fit_intercept': False,\n",
    "#  'clf__penalty': 'l2',\n",
    "#  'clf__solver': 'newton-cg'}\n"
   ]
  },
  {
   "cell_type": "code",
   "execution_count": 40,
   "metadata": {},
   "outputs": [],
   "source": [
    "# Print the accuracy on test set\n",
    "# gridsearch.score(X_test, y_test)\n",
    "# gridseard score 74% which is lower than what i have without grid searh"
   ]
  },
  {
   "cell_type": "code",
   "execution_count": 41,
   "metadata": {},
   "outputs": [
    {
     "data": {
      "text/plain": [
       "Pipeline(steps=[('preprocessor',\n",
       "                 ColumnTransformer(transformers=[('num',\n",
       "                                                  Pipeline(steps=[('scaler',\n",
       "                                                                   StandardScaler())]),\n",
       "                                                  ['account length',\n",
       "                                                   'number vmail messages',\n",
       "                                                   'total day minutes',\n",
       "                                                   'total day calls',\n",
       "                                                   'total day charge',\n",
       "                                                   'total eve minutes',\n",
       "                                                   'total eve calls',\n",
       "                                                   'total eve charge',\n",
       "                                                   'total night minutes',\n",
       "                                                   'total night calls',\n",
       "                                                   'total night charge',\n",
       "                                                   'total intl minutes',\n",
       "                                                   'total intl calls'...\n",
       "                                                 ('cat_ohe',\n",
       "                                                  Pipeline(steps=[('ohe',\n",
       "                                                                   OneHotEncoder())]),\n",
       "                                                  ['international plan',\n",
       "                                                   'voice mail plan']),\n",
       "                                                 ('cat_freq',\n",
       "                                                  Pipeline(steps=[('freq_enc',\n",
       "                                                                   CountEncoder(combine_min_nan_groups=True,\n",
       "                                                                                min_group_name='Other',\n",
       "                                                                                min_group_size=0.001,\n",
       "                                                                                normalize=True))]),\n",
       "                                                  ['state'])])),\n",
       "                ('clf',\n",
       "                 LogisticRegression(C=0.001, class_weight='balanced',\n",
       "                                    fit_intercept=False, solver='newton-cg'))])"
      ]
     },
     "execution_count": 41,
     "metadata": {},
     "output_type": "execute_result"
    }
   ],
   "source": [
    "lr_pipe = Pipeline([('preprocessor', preprocessor),\n",
    "                             ('clf', LogisticRegression(class_weight=\"balanced\",C= 0.001, fit_intercept=False,\n",
    "                                                        solver=\"newton-cg\"))])\n",
    "\n",
    "lr_pipe.fit(X_train, y_train)"
   ]
  },
  {
   "cell_type": "code",
   "execution_count": 42,
   "metadata": {},
   "outputs": [
    {
     "name": "stdout",
     "output_type": "stream",
     "text": [
      "<class 'numpy.ndarray'>\n",
      "Train Scores\n",
      "------------\n",
      "Recall: 0.7682291666666666\n",
      "Precision: 0.3004073319755601\n",
      "Accuracy: 0.695566888976069\n",
      "F1 Score: 0.43191800878477304\n",
      "ROC-AUC: 0.7915969014626635\n",
      "--------------------\n",
      "Test Scores\n",
      "-----------\n",
      "Recall: 0.7962962962962963\n",
      "Precision: 0.24293785310734464\n",
      "Accuracy: 0.6777777777777778\n",
      "F1 Score: 0.3722943722943723\n",
      "ROC-AUC: 0.7846520763187431\n"
     ]
    },
    {
     "data": {
      "image/png": "[encoded data removed]",
      "text/plain": [
       "<Figure size 432x288 with 2 Axes>"
      ]
     },
     "metadata": {
      "needs_background": "light"
     },
     "output_type": "display_data"
    }
   ],
   "source": [
    "# Evaluate\n",
    "evaluate(lr_pipe, X_train, X_test, y_train, y_test)"
   ]
  },
  {
   "cell_type": "markdown",
   "metadata": {},
   "source": [
    "## KNN"
   ]
  },
  {
   "cell_type": "code",
   "execution_count": 43,
   "metadata": {},
   "outputs": [
    {
     "data": {
      "text/plain": [
       "Pipeline(steps=[('preprocessor',\n",
       "                 ColumnTransformer(transformers=[('num',\n",
       "                                                  Pipeline(steps=[('scaler',\n",
       "                                                                   StandardScaler())]),\n",
       "                                                  ['account length',\n",
       "                                                   'number vmail messages',\n",
       "                                                   'total day minutes',\n",
       "                                                   'total day calls',\n",
       "                                                   'total day charge',\n",
       "                                                   'total eve minutes',\n",
       "                                                   'total eve calls',\n",
       "                                                   'total eve charge',\n",
       "                                                   'total night minutes',\n",
       "                                                   'total night calls',\n",
       "                                                   'total night charge',\n",
       "                                                   'total intl minutes',\n",
       "                                                   'total intl calls',\n",
       "                                                   'total intl charge',\n",
       "                                                   'customer service calls']),\n",
       "                                                 ('cat_ohe',\n",
       "                                                  Pipeline(steps=[('ohe',\n",
       "                                                                   OneHotEncoder())]),\n",
       "                                                  ['international plan',\n",
       "                                                   'voice mail plan']),\n",
       "                                                 ('cat_freq',\n",
       "                                                  Pipeline(steps=[('freq_enc',\n",
       "                                                                   CountEncoder(combine_min_nan_groups=True,\n",
       "                                                                                min_group_name='Other',\n",
       "                                                                                min_group_size=0.001,\n",
       "                                                                                normalize=True))]),\n",
       "                                                  ['state'])])),\n",
       "                ('knn', KNeighborsClassifier())])"
      ]
     },
     "execution_count": 43,
     "metadata": {},
     "output_type": "execute_result"
    }
   ],
   "source": [
    "#  prediction pipeline.\n",
    "knn_pipe = Pipeline([('preprocessor', preprocessor),\n",
    "                             ('knn', KNeighborsClassifier())])\n",
    "\n",
    "knn_pipe.fit(X_train, y_train)"
   ]
  },
  {
   "cell_type": "code",
   "execution_count": 44,
   "metadata": {},
   "outputs": [
    {
     "name": "stdout",
     "output_type": "stream",
     "text": [
      "<class 'bool'>\n",
      "Train Scores\n",
      "------------\n",
      "Recall: 0.4088541666666667\n",
      "Precision: 0.9573170731707317\n",
      "Accuracy: 0.9081992938407218\n",
      "F1 Score: 0.572992700729927\n",
      "--------------------\n",
      "Test Scores\n",
      "-----------\n",
      "Recall: 0.37037037037037035\n",
      "Precision: 0.8333333333333334\n",
      "Accuracy: 0.9155555555555556\n",
      "F1 Score: 0.5128205128205128\n"
     ]
    },
    {
     "data": {
      "image/png": "[encoded data removed]",
      "text/plain": [
       "<Figure size 432x288 with 2 Axes>"
      ]
     },
     "metadata": {
      "needs_background": "light"
     },
     "output_type": "display_data"
    }
   ],
   "source": [
    "# Evaluate\n",
    "evaluate(knn_pipe, X_train, X_test, y_train, y_test,use_decision_function='skip')"
   ]
  },
  {
   "cell_type": "code",
   "execution_count": 45,
   "metadata": {},
   "outputs": [],
   "source": [
    "# param_grid = {\n",
    "#     \"knn__n_neighbors\" : [1,3,5,7,9,11,13,15,17,19,21], \n",
    "#     \"knn__weights\" : ['uniform', 'distance'],\n",
    "#     \"knn__p\" : [1,2,3,4,5,6,7,8,9]\n",
    "# }\n",
    "# knn_grid = GridSearchCV(knn_pipe, \n",
    "#                           param_grid=param_grid, \n",
    "#                           scoring='recall',\n",
    "#                           cv=3)\n",
    "#knn_grid.fit(X_train, y_train)"
   ]
  },
  {
   "cell_type": "code",
   "execution_count": 46,
   "metadata": {},
   "outputs": [],
   "source": [
    "# knn_grid.best_params_\n",
    "# #{'knn__n_neighbors': 1, 'knn__p': 1, 'knn__weights': 'uniform'}"
   ]
  },
  {
   "cell_type": "code",
   "execution_count": 47,
   "metadata": {},
   "outputs": [
    {
     "data": {
      "text/plain": [
       "Pipeline(steps=[('preprocessor',\n",
       "                 ColumnTransformer(transformers=[('num',\n",
       "                                                  Pipeline(steps=[('scaler',\n",
       "                                                                   StandardScaler())]),\n",
       "                                                  ['account length',\n",
       "                                                   'number vmail messages',\n",
       "                                                   'total day minutes',\n",
       "                                                   'total day calls',\n",
       "                                                   'total day charge',\n",
       "                                                   'total eve minutes',\n",
       "                                                   'total eve calls',\n",
       "                                                   'total eve charge',\n",
       "                                                   'total night minutes',\n",
       "                                                   'total night calls',\n",
       "                                                   'total night charge',\n",
       "                                                   'total intl minutes',\n",
       "                                                   'total intl calls',\n",
       "                                                   'total intl charge',\n",
       "                                                   'customer service calls']),\n",
       "                                                 ('cat_ohe',\n",
       "                                                  Pipeline(steps=[('ohe',\n",
       "                                                                   OneHotEncoder())]),\n",
       "                                                  ['international plan',\n",
       "                                                   'voice mail plan']),\n",
       "                                                 ('cat_freq',\n",
       "                                                  Pipeline(steps=[('freq_enc',\n",
       "                                                                   CountEncoder(combine_min_nan_groups=True,\n",
       "                                                                                min_group_name='Other',\n",
       "                                                                                min_group_size=0.001,\n",
       "                                                                                normalize=True))]),\n",
       "                                                  ['state'])])),\n",
       "                ('knn', KNeighborsClassifier(n_neighbors=1, p=1))])"
      ]
     },
     "execution_count": 47,
     "metadata": {},
     "output_type": "execute_result"
    }
   ],
   "source": [
    "knn_pipe = Pipeline([('preprocessor', preprocessor),\n",
    "                             ('knn', KNeighborsClassifier(n_neighbors= 1,p=1))])\n",
    "\n",
    "knn_pipe.fit(X_train, y_train)"
   ]
  },
  {
   "cell_type": "code",
   "execution_count": 48,
   "metadata": {},
   "outputs": [
    {
     "name": "stdout",
     "output_type": "stream",
     "text": [
      "<class 'bool'>\n",
      "Train Scores\n",
      "------------\n",
      "Recall: 1.0\n",
      "Precision: 1.0\n",
      "Accuracy: 1.0\n",
      "F1 Score: 1.0\n",
      "--------------------\n",
      "Test Scores\n",
      "-----------\n",
      "Recall: 0.4444444444444444\n",
      "Precision: 0.5454545454545454\n",
      "Accuracy: 0.8888888888888888\n",
      "F1 Score: 0.4897959183673469\n"
     ]
    },
    {
     "data": {
      "image/png": "[encoded data removed]",
      "text/plain": [
       "<Figure size 432x288 with 2 Axes>"
      ]
     },
     "metadata": {
      "needs_background": "light"
     },
     "output_type": "display_data"
    }
   ],
   "source": [
    "# Evaluate\n",
    "evaluate(knn_pipe, X_train, X_test, y_train, y_test,use_decision_function='skip')"
   ]
  },
  {
   "cell_type": "markdown",
   "metadata": {},
   "source": [
    "## DecisionTree"
   ]
  },
  {
   "cell_type": "code",
   "execution_count": 49,
   "metadata": {},
   "outputs": [
    {
     "data": {
      "text/plain": [
       "Pipeline(steps=[('preprocessor',\n",
       "                 ColumnTransformer(transformers=[('num',\n",
       "                                                  Pipeline(steps=[('scaler',\n",
       "                                                                   StandardScaler())]),\n",
       "                                                  ['account length',\n",
       "                                                   'number vmail messages',\n",
       "                                                   'total day minutes',\n",
       "                                                   'total day calls',\n",
       "                                                   'total day charge',\n",
       "                                                   'total eve minutes',\n",
       "                                                   'total eve calls',\n",
       "                                                   'total eve charge',\n",
       "                                                   'total night minutes',\n",
       "                                                   'total night calls',\n",
       "                                                   'total night charge',\n",
       "                                                   'total intl minutes',\n",
       "                                                   'total intl calls',\n",
       "                                                   'total intl charge',\n",
       "                                                   'customer service calls']),\n",
       "                                                 ('cat_ohe',\n",
       "                                                  Pipeline(steps=[('ohe',\n",
       "                                                                   OneHotEncoder())]),\n",
       "                                                  ['international plan',\n",
       "                                                   'voice mail plan']),\n",
       "                                                 ('cat_freq',\n",
       "                                                  Pipeline(steps=[('freq_enc',\n",
       "                                                                   CountEncoder(combine_min_nan_groups=True,\n",
       "                                                                                min_group_name='Other',\n",
       "                                                                                min_group_size=0.001,\n",
       "                                                                                normalize=True))]),\n",
       "                                                  ['state'])])),\n",
       "                ('dt', DecisionTreeClassifier(class_weight='balanced'))])"
      ]
     },
     "execution_count": 49,
     "metadata": {},
     "output_type": "execute_result"
    }
   ],
   "source": [
    "dt_pipe = Pipeline(steps=[('preprocessor', preprocessor),\n",
    "                         ('dt', DecisionTreeClassifier(class_weight='balanced'))])\n",
    "dt_pipe.fit(X_train, y_train)"
   ]
  },
  {
   "cell_type": "code",
   "execution_count": 50,
   "metadata": {},
   "outputs": [
    {
     "name": "stdout",
     "output_type": "stream",
     "text": [
      "<class 'bool'>\n",
      "Train Scores\n",
      "------------\n",
      "Recall: 1.0\n",
      "Precision: 1.0\n",
      "Accuracy: 1.0\n",
      "F1 Score: 1.0\n",
      "--------------------\n",
      "Test Scores\n",
      "-----------\n",
      "Recall: 0.6481481481481481\n",
      "Precision: 0.6730769230769231\n",
      "Accuracy: 0.92\n",
      "F1 Score: 0.6603773584905661\n"
     ]
    },
    {
     "data": {
      "image/png": "[encoded data removed]",
      "text/plain": [
       "<Figure size 432x288 with 2 Axes>"
      ]
     },
     "metadata": {
      "needs_background": "light"
     },
     "output_type": "display_data"
    }
   ],
   "source": [
    "# Evaluate\n",
    "evaluate(dt_pipe, X_train, X_test, y_train, y_test,use_decision_function='skip')\n",
    "\n",
    "# the training data is overfit"
   ]
  },
  {
   "cell_type": "markdown",
   "metadata": {},
   "source": [
    "## Random Forest"
   ]
  },
  {
   "cell_type": "code",
   "execution_count": 51,
   "metadata": {},
   "outputs": [
    {
     "data": {
      "text/plain": [
       "Pipeline(steps=[('preprocessor',\n",
       "                 ColumnTransformer(transformers=[('num',\n",
       "                                                  Pipeline(steps=[('scaler',\n",
       "                                                                   StandardScaler())]),\n",
       "                                                  ['account length',\n",
       "                                                   'number vmail messages',\n",
       "                                                   'total day minutes',\n",
       "                                                   'total day calls',\n",
       "                                                   'total day charge',\n",
       "                                                   'total eve minutes',\n",
       "                                                   'total eve calls',\n",
       "                                                   'total eve charge',\n",
       "                                                   'total night minutes',\n",
       "                                                   'total night calls',\n",
       "                                                   'total night charge',\n",
       "                                                   'total intl minutes',\n",
       "                                                   'total intl calls',\n",
       "                                                   'total intl charge',\n",
       "                                                   'customer service calls']),\n",
       "                                                 ('cat_ohe',\n",
       "                                                  Pipeline(steps=[('ohe',\n",
       "                                                                   OneHotEncoder())]),\n",
       "                                                  ['international plan',\n",
       "                                                   'voice mail plan']),\n",
       "                                                 ('cat_freq',\n",
       "                                                  Pipeline(steps=[('freq_enc',\n",
       "                                                                   CountEncoder(combine_min_nan_groups=True,\n",
       "                                                                                min_group_name='Other',\n",
       "                                                                                min_group_size=0.001,\n",
       "                                                                                normalize=True))]),\n",
       "                                                  ['state'])])),\n",
       "                ('rf', RandomForestClassifier(random_state=0))])"
      ]
     },
     "execution_count": 51,
     "metadata": {},
     "output_type": "execute_result"
    }
   ],
   "source": [
    "rf_pipe = Pipeline(steps=[('preprocessor', preprocessor),\n",
    "                          ('rf', RandomForestClassifier(random_state=0))])\n",
    "rf_pipe.fit(X_train, y_train)"
   ]
  },
  {
   "cell_type": "code",
   "execution_count": 52,
   "metadata": {},
   "outputs": [
    {
     "name": "stdout",
     "output_type": "stream",
     "text": [
      "<class 'bool'>\n",
      "Train Scores\n",
      "------------\n",
      "Recall: 1.0\n",
      "Precision: 1.0\n",
      "Accuracy: 1.0\n",
      "F1 Score: 1.0\n",
      "--------------------\n",
      "Test Scores\n",
      "-----------\n",
      "Recall: 0.6851851851851852\n",
      "Precision: 0.9024390243902439\n",
      "Accuracy: 0.9533333333333334\n",
      "F1 Score: 0.7789473684210526\n"
     ]
    },
    {
     "data": {
      "image/png": "[encoded data removed]",
      "text/plain": [
       "<Figure size 432x288 with 2 Axes>"
      ]
     },
     "metadata": {
      "needs_background": "light"
     },
     "output_type": "display_data"
    }
   ],
   "source": [
    "# Evaluate\n",
    "evaluate(rf_pipe, X_train, X_test, y_train, y_test,use_decision_function='skip')\n",
    "\n",
    "# the data is overfit but better than decsion tree"
   ]
  },
  {
   "cell_type": "code",
   "execution_count": 53,
   "metadata": {},
   "outputs": [],
   "source": [
    "# param_grid = {\n",
    "#     \"rf__n_estimators\" : [20,40,60,80,100,200,300,400,500,600,700],\n",
    "#     'rf__criterion': ['gini', 'entropy'],\n",
    "#     'rf__max_depth': [None, 2, 3, 4, 5, 6],\n",
    "#     'rf__min_samples_split': [2, 5,6,10,14],\n",
    "#     'rf__min_samples_leaf': [1, 2, 3, 4, 5, 6],\n",
    "#     'rf__max_leaf_nodes': [40,80,100]\n",
    "# }\n",
    "# rf_grid = GridSearchCV(rf_pipe, \n",
    "#                           param_grid=param_grid, \n",
    "#                           scoring='recall',\n",
    "#                           cv=3,verbose= 2, n_jobs= -1)\n",
    "# rf_grid.fit(X_train, y_train)"
   ]
  },
  {
   "cell_type": "code",
   "execution_count": 54,
   "metadata": {},
   "outputs": [],
   "source": [
    "#optimal_rf=rf_grid.best_params_\n",
    "# {'rf__criterion': 'gini',\n",
    "#  'rf__max_depth': None,\n",
    "#  'rf__max_leaf_nodes': 80,\n",
    "#  'rf__min_samples_leaf': 1,\n",
    "#  'rf__min_samples_split': 6,\n",
    "#  'rf__n_estimators': 80}"
   ]
  },
  {
   "cell_type": "code",
   "execution_count": 55,
   "metadata": {},
   "outputs": [
    {
     "data": {
      "text/plain": [
       "Pipeline(steps=[('preprocessor',\n",
       "                 ColumnTransformer(transformers=[('num',\n",
       "                                                  Pipeline(steps=[('scaler',\n",
       "                                                                   StandardScaler())]),\n",
       "                                                  ['account length',\n",
       "                                                   'number vmail messages',\n",
       "                                                   'total day minutes',\n",
       "                                                   'total day calls',\n",
       "                                                   'total day charge',\n",
       "                                                   'total eve minutes',\n",
       "                                                   'total eve calls',\n",
       "                                                   'total eve charge',\n",
       "                                                   'total night minutes',\n",
       "                                                   'total night calls',\n",
       "                                                   'total night charge',\n",
       "                                                   'total intl minutes',\n",
       "                                                   'total intl calls'...\n",
       "                                                 ('cat_ohe',\n",
       "                                                  Pipeline(steps=[('ohe',\n",
       "                                                                   OneHotEncoder())]),\n",
       "                                                  ['international plan',\n",
       "                                                   'voice mail plan']),\n",
       "                                                 ('cat_freq',\n",
       "                                                  Pipeline(steps=[('freq_enc',\n",
       "                                                                   CountEncoder(combine_min_nan_groups=True,\n",
       "                                                                                min_group_name='Other',\n",
       "                                                                                min_group_size=0.001,\n",
       "                                                                                normalize=True))]),\n",
       "                                                  ['state'])])),\n",
       "                ('rf',\n",
       "                 RandomForestClassifier(max_leaf_nodes=80, min_samples_split=6,\n",
       "                                        n_estimators=80, random_state=42))])"
      ]
     },
     "execution_count": 55,
     "metadata": {},
     "output_type": "execute_result"
    }
   ],
   "source": [
    "rf_pipe = Pipeline(steps=[('preprocessor', preprocessor),\n",
    "                          ('rf', RandomForestClassifier(n_estimators= 80,random_state=42,min_samples_split=6,\n",
    "                                            max_leaf_nodes=80))])\n",
    "rf_pipe.fit(X_train, y_train)"
   ]
  },
  {
   "cell_type": "code",
   "execution_count": 56,
   "metadata": {},
   "outputs": [
    {
     "name": "stdout",
     "output_type": "stream",
     "text": [
      "<class 'bool'>\n",
      "Train Scores\n",
      "------------\n",
      "Recall: 0.8567708333333334\n",
      "Precision: 1.0\n",
      "Accuracy: 0.9784229109454688\n",
      "F1 Score: 0.9228611500701261\n",
      "--------------------\n",
      "Test Scores\n",
      "-----------\n",
      "Recall: 0.6666666666666666\n",
      "Precision: 0.9230769230769231\n",
      "Accuracy: 0.9533333333333334\n",
      "F1 Score: 0.7741935483870968\n"
     ]
    },
    {
     "data": {
      "image/png": "[encoded data removed]",
      "text/plain": [
       "<Figure size 432x288 with 2 Axes>"
      ]
     },
     "metadata": {
      "needs_background": "light"
     },
     "output_type": "display_data"
    }
   ],
   "source": [
    "# Evaluate\n",
    "evaluate(rf_pipe, X_train, X_test, y_train, y_test,use_decision_function='skip')\n"
   ]
  },
  {
   "cell_type": "markdown",
   "metadata": {},
   "source": [
    "## Ada Boost"
   ]
  },
  {
   "cell_type": "code",
   "execution_count": 57,
   "metadata": {},
   "outputs": [
    {
     "data": {
      "text/plain": [
       "Pipeline(steps=[('preprocessor',\n",
       "                 ColumnTransformer(transformers=[('num',\n",
       "                                                  Pipeline(steps=[('scaler',\n",
       "                                                                   StandardScaler())]),\n",
       "                                                  ['account length',\n",
       "                                                   'number vmail messages',\n",
       "                                                   'total day minutes',\n",
       "                                                   'total day calls',\n",
       "                                                   'total day charge',\n",
       "                                                   'total eve minutes',\n",
       "                                                   'total eve calls',\n",
       "                                                   'total eve charge',\n",
       "                                                   'total night minutes',\n",
       "                                                   'total night calls',\n",
       "                                                   'total night charge',\n",
       "                                                   'total intl minutes',\n",
       "                                                   'total intl calls',\n",
       "                                                   'total intl charge',\n",
       "                                                   'customer service calls']),\n",
       "                                                 ('cat_ohe',\n",
       "                                                  Pipeline(steps=[('ohe',\n",
       "                                                                   OneHotEncoder())]),\n",
       "                                                  ['international plan',\n",
       "                                                   'voice mail plan']),\n",
       "                                                 ('cat_freq',\n",
       "                                                  Pipeline(steps=[('freq_enc',\n",
       "                                                                   CountEncoder(combine_min_nan_groups=True,\n",
       "                                                                                min_group_name='Other',\n",
       "                                                                                min_group_size=0.001,\n",
       "                                                                                normalize=True))]),\n",
       "                                                  ['state'])])),\n",
       "                ('ab', AdaBoostClassifier(random_state=0))])"
      ]
     },
     "execution_count": 57,
     "metadata": {},
     "output_type": "execute_result"
    }
   ],
   "source": [
    "ab_pipe = Pipeline(steps=[('preprocessor', preprocessor),\n",
    "                          ('ab', AdaBoostClassifier(random_state=0))])\n",
    "ab_pipe.fit(X_train, y_train)"
   ]
  },
  {
   "cell_type": "code",
   "execution_count": 58,
   "metadata": {},
   "outputs": [
    {
     "name": "stdout",
     "output_type": "stream",
     "text": [
      "<class 'numpy.ndarray'>\n",
      "Train Scores\n",
      "------------\n",
      "Recall: 0.4869791666666667\n",
      "Precision: 0.7695473251028807\n",
      "Accuracy: 0.9007453903491566\n",
      "F1 Score: 0.5964912280701755\n",
      "ROC-AUC: 0.9219339395688991\n",
      "--------------------\n",
      "Test Scores\n",
      "-----------\n",
      "Recall: 0.3333333333333333\n",
      "Precision: 0.5625\n",
      "Accuracy: 0.8888888888888888\n",
      "F1 Score: 0.4186046511627907\n",
      "ROC-AUC: 0.7866161616161615\n"
     ]
    },
    {
     "data": {
      "image/png": "[encoded data removed]",
      "text/plain": [
       "<Figure size 432x288 with 2 Axes>"
      ]
     },
     "metadata": {
      "needs_background": "light"
     },
     "output_type": "display_data"
    }
   ],
   "source": [
    "# Evaluate\n",
    "evaluate(ab_pipe, X_train, X_test, y_train, y_test)\n"
   ]
  },
  {
   "cell_type": "markdown",
   "metadata": {},
   "source": [
    "## Gradient Boosting"
   ]
  },
  {
   "cell_type": "code",
   "execution_count": 59,
   "metadata": {},
   "outputs": [
    {
     "data": {
      "text/plain": [
       "Pipeline(steps=[('preprocessor',\n",
       "                 ColumnTransformer(transformers=[('num',\n",
       "                                                  Pipeline(steps=[('scaler',\n",
       "                                                                   StandardScaler())]),\n",
       "                                                  ['account length',\n",
       "                                                   'number vmail messages',\n",
       "                                                   'total day minutes',\n",
       "                                                   'total day calls',\n",
       "                                                   'total day charge',\n",
       "                                                   'total eve minutes',\n",
       "                                                   'total eve calls',\n",
       "                                                   'total eve charge',\n",
       "                                                   'total night minutes',\n",
       "                                                   'total night calls',\n",
       "                                                   'total night charge',\n",
       "                                                   'total intl minutes',\n",
       "                                                   'total intl calls',\n",
       "                                                   'total intl charge',\n",
       "                                                   'customer service calls']),\n",
       "                                                 ('cat_ohe',\n",
       "                                                  Pipeline(steps=[('ohe',\n",
       "                                                                   OneHotEncoder())]),\n",
       "                                                  ['international plan',\n",
       "                                                   'voice mail plan']),\n",
       "                                                 ('cat_freq',\n",
       "                                                  Pipeline(steps=[('freq_enc',\n",
       "                                                                   CountEncoder(combine_min_nan_groups=True,\n",
       "                                                                                min_group_name='Other',\n",
       "                                                                                min_group_size=0.001,\n",
       "                                                                                normalize=True))]),\n",
       "                                                  ['state'])])),\n",
       "                ('gb', GradientBoostingClassifier(random_state=0))])"
      ]
     },
     "execution_count": 59,
     "metadata": {},
     "output_type": "execute_result"
    }
   ],
   "source": [
    "gb_pipe = Pipeline(steps=[('preprocessor', preprocessor),\n",
    "                          ('gb',GradientBoostingClassifier(random_state=0))])\n",
    "gb_pipe.fit(X_train, y_train)"
   ]
  },
  {
   "cell_type": "code",
   "execution_count": 60,
   "metadata": {},
   "outputs": [
    {
     "name": "stdout",
     "output_type": "stream",
     "text": [
      "<class 'numpy.ndarray'>\n",
      "Train Scores\n",
      "------------\n",
      "Recall: 0.8203125\n",
      "Precision: 0.9905660377358491\n",
      "Accuracy: 0.9717536288740682\n",
      "F1 Score: 0.8974358974358975\n",
      "ROC-AUC: 0.9718509430331024\n",
      "--------------------\n",
      "Test Scores\n",
      "-----------\n",
      "Recall: 0.6851851851851852\n",
      "Precision: 0.8809523809523809\n",
      "Accuracy: 0.9511111111111111\n",
      "F1 Score: 0.7708333333333335\n",
      "ROC-AUC: 0.8692480359147026\n"
     ]
    },
    {
     "data": {
      "image/png": "[encoded data removed]",
      "text/plain": [
       "<Figure size 432x288 with 2 Axes>"
      ]
     },
     "metadata": {
      "needs_background": "light"
     },
     "output_type": "display_data"
    }
   ],
   "source": [
    "# Evaluate\n",
    "evaluate(gb_pipe, X_train, X_test, y_train, y_test)"
   ]
  },
  {
   "cell_type": "markdown",
   "metadata": {},
   "source": [
    "## XGBoost"
   ]
  },
  {
   "cell_type": "code",
   "execution_count": 61,
   "metadata": {},
   "outputs": [
    {
     "data": {
      "text/plain": [
       "Pipeline(steps=[('preprocessor',\n",
       "                 ColumnTransformer(transformers=[('num',\n",
       "                                                  Pipeline(steps=[('scaler',\n",
       "                                                                   StandardScaler())]),\n",
       "                                                  ['account length',\n",
       "                                                   'number vmail messages',\n",
       "                                                   'total day minutes',\n",
       "                                                   'total day calls',\n",
       "                                                   'total day charge',\n",
       "                                                   'total eve minutes',\n",
       "                                                   'total eve calls',\n",
       "                                                   'total eve charge',\n",
       "                                                   'total night minutes',\n",
       "                                                   'total night calls',\n",
       "                                                   'total night charge',\n",
       "                                                   'total intl minutes',\n",
       "                                                   'total intl calls'...\n",
       "                               colsample_bytree=1, gamma=0, gpu_id=-1,\n",
       "                               importance_type='gain',\n",
       "                               interaction_constraints='',\n",
       "                               learning_rate=0.300000012, max_delta_step=0,\n",
       "                               max_depth=6, min_child_weight=1, missing=nan,\n",
       "                               monotone_constraints='()', n_estimators=100,\n",
       "                               n_jobs=0, num_parallel_tree=1, random_state=0,\n",
       "                               reg_alpha=0, reg_lambda=1, scale_pos_weight=1,\n",
       "                               subsample=1, tree_method='exact',\n",
       "                               validate_parameters=1, verbosity=None))])"
      ]
     },
     "execution_count": 61,
     "metadata": {},
     "output_type": "execute_result"
    }
   ],
   "source": [
    "xgb_pipe = Pipeline(steps=[('preprocessor', preprocessor),\n",
    "                          ('xgb',XGBClassifier(random_state=0))])\n",
    "xgb_pipe.fit(X_train, y_train)"
   ]
  },
  {
   "cell_type": "code",
   "execution_count": 62,
   "metadata": {},
   "outputs": [
    {
     "name": "stdout",
     "output_type": "stream",
     "text": [
      "<class 'bool'>\n",
      "Train Scores\n",
      "------------\n",
      "Recall: 1.0\n",
      "Precision: 1.0\n",
      "Accuracy: 1.0\n",
      "F1 Score: 1.0\n",
      "--------------------\n",
      "Test Scores\n",
      "-----------\n",
      "Recall: 0.6851851851851852\n",
      "Precision: 0.925\n",
      "Accuracy: 0.9555555555555556\n",
      "F1 Score: 0.7872340425531915\n"
     ]
    },
    {
     "data": {
      "image/png": "[encoded data removed]",
      "text/plain": [
       "<Figure size 432x288 with 2 Axes>"
      ]
     },
     "metadata": {
      "needs_background": "light"
     },
     "output_type": "display_data"
    }
   ],
   "source": [
    "# Evaluate\n",
    "evaluate(xgb_pipe, X_train, X_test, y_train, y_test,use_decision_function='skip')\n"
   ]
  },
  {
   "cell_type": "code",
   "execution_count": 63,
   "metadata": {},
   "outputs": [],
   "source": [
    "# param_grid = {\n",
    "#     'xgb__learning_rate': [0.001,0.002,0.009,0.1, 0.2,0.03,0.04],\n",
    "#     'xgb__max_depth': [4,5,6],\n",
    "#     'xgb__min_child_weight': [1, 2,3,4],\n",
    "#     'xgb__n_estimators': [100,200,300,400,800,900],\n",
    "# }\n",
    "# xgb_grid = GridSearchCV(xgb_pipe, \n",
    "#                           param_grid=param_grid, \n",
    "#                           scoring='recall',\n",
    "#                           cv=3,verbose= 2, n_jobs= -1)\n",
    "# xgb_grid.fit(X_train, y_train)"
   ]
  },
  {
   "cell_type": "code",
   "execution_count": 64,
   "metadata": {},
   "outputs": [],
   "source": [
    "# xgb_grid.best_params_\n",
    "# {'xgb__learning_rate': 0.03,\n",
    "#  'xgb__max_depth': 5,\n",
    "#  'xgb__min_child_weight': 2,\n",
    "#  'xgb__n_estimators': 400}"
   ]
  },
  {
   "cell_type": "code",
   "execution_count": 65,
   "metadata": {},
   "outputs": [],
   "source": [
    "# xgb_grid.best_params_\n",
    "# {'xgb__learning_rate': 0.1,\n",
    "#  'xgb__max_depth': 6,\n",
    "#  'xgb__min_child_weight': 1,\n",
    "#  'xgb__n_estimators': 100,\n",
    "#  'xgb__subsample': 0.7}"
   ]
  },
  {
   "cell_type": "code",
   "execution_count": 66,
   "metadata": {},
   "outputs": [],
   "source": [
    "# xgb_grid.best_params_\n",
    "# {'xgb__learning_rate': 0.009,\n",
    "#  'xgb__max_depth': 6,\n",
    "#  'xgb__min_child_weight': 1,\n",
    "#  'xgb__n_estimators': 400,\n",
    "#  'xgb__subsample': 0.7}"
   ]
  },
  {
   "cell_type": "code",
   "execution_count": 67,
   "metadata": {},
   "outputs": [
    {
     "data": {
      "text/plain": [
       "Pipeline(steps=[('preprocessor',\n",
       "                 ColumnTransformer(transformers=[('num',\n",
       "                                                  Pipeline(steps=[('scaler',\n",
       "                                                                   StandardScaler())]),\n",
       "                                                  ['account length',\n",
       "                                                   'number vmail messages',\n",
       "                                                   'total day minutes',\n",
       "                                                   'total day calls',\n",
       "                                                   'total day charge',\n",
       "                                                   'total eve minutes',\n",
       "                                                   'total eve calls',\n",
       "                                                   'total eve charge',\n",
       "                                                   'total night minutes',\n",
       "                                                   'total night calls',\n",
       "                                                   'total night charge',\n",
       "                                                   'total intl minutes',\n",
       "                                                   'total intl calls'...\n",
       "                               colsample_bytree=1, gamma=0, gpu_id=-1,\n",
       "                               importance_type='gain',\n",
       "                               interaction_constraints='', learning_rate=0.009,\n",
       "                               max_delta_step=0, max_depth=6,\n",
       "                               min_child_weight=2, missing=nan,\n",
       "                               monotone_constraints='()', n_estimators=1000,\n",
       "                               n_jobs=0, num_parallel_tree=1, random_state=0,\n",
       "                               reg_alpha=0, reg_lambda=1, scale_pos_weight=1,\n",
       "                               subsample=0.8, tree_method='exact',\n",
       "                               validate_parameters=1, verbosity=None))])"
      ]
     },
     "execution_count": 67,
     "metadata": {},
     "output_type": "execute_result"
    }
   ],
   "source": [
    "xgb_pipe = Pipeline(steps=[('preprocessor', preprocessor),\n",
    "                          ('xgb',XGBClassifier(random_state=0,max_depth=6,learning_rate=0.009,subsample=0.8,\n",
    "                                               min_child_weight=2,n_estimators=1000))])\n",
    "xgb_pipe.fit(X_train, y_train)\n",
    "\n",
    "# delete the learning rate and subsample make the recall score better1 training, and 79 test\n",
    "#86 train 72 test"
   ]
  },
  {
   "cell_type": "code",
   "execution_count": 68,
   "metadata": {},
   "outputs": [
    {
     "name": "stdout",
     "output_type": "stream",
     "text": [
      "<class 'bool'>\n",
      "Train Scores\n",
      "------------\n",
      "Recall: 0.8697916666666666\n",
      "Precision: 1.0\n",
      "Accuracy: 0.9803844644958808\n",
      "F1 Score: 0.9303621169916435\n",
      "--------------------\n",
      "Test Scores\n",
      "-----------\n",
      "Recall: 0.7222222222222222\n",
      "Precision: 0.8863636363636364\n",
      "Accuracy: 0.9555555555555556\n",
      "F1 Score: 0.7959183673469388\n"
     ]
    },
    {
     "data": {
      "image/png": "[encoded data removed]",
      "text/plain": [
       "<Figure size 432x288 with 2 Axes>"
      ]
     },
     "metadata": {
      "needs_background": "light"
     },
     "output_type": "display_data"
    }
   ],
   "source": [
    "# Evaluate\n",
    "evaluate(xgb_pipe, X_train, X_test, y_train, y_test,use_decision_function='skip')\n",
    "# after trying different hyperparameters, the model didn't get the test score that I want yet with the pipeline\n",
    "# I will try one final model without the pipeline"
   ]
  },
  {
   "cell_type": "code",
   "execution_count": 69,
   "metadata": {},
   "outputs": [
    {
     "data": {
      "text/plain": [
       "(334, 19)"
      ]
     },
     "execution_count": 69,
     "metadata": {},
     "output_type": "execute_result"
    }
   ],
   "source": [
    "# I will test the model on the 10% of the validation data left aside from the beginning before  train test\n",
    "df_val1.head()\n",
    "df_val1.shape"
   ]
  },
  {
   "cell_type": "code",
   "execution_count": 70,
   "metadata": {},
   "outputs": [],
   "source": [
    "y_val = df_val1[\"churn\"]\n",
    "X_val = df_val1.drop([\"churn\"],axis =1)"
   ]
  },
  {
   "cell_type": "code",
   "execution_count": 71,
   "metadata": {},
   "outputs": [
    {
     "data": {
      "text/plain": [
       "<sklearn.metrics._plot.confusion_matrix.ConfusionMatrixDisplay at 0x7fa943437100>"
      ]
     },
     "execution_count": 71,
     "metadata": {},
     "output_type": "execute_result"
    },
    {
     "data": {
      "image/png": "[encoded data removed]",
      "text/plain": [
       "<Figure size 432x288 with 2 Axes>"
      ]
     },
     "metadata": {
      "needs_background": "light"
     },
     "output_type": "display_data"
    }
   ],
   "source": [
    "plot_confusion_matrix(xgb_pipe,X_val,y_val )"
   ]
  },
  {
   "cell_type": "code",
   "execution_count": 72,
   "metadata": {},
   "outputs": [
    {
     "data": {
      "text/plain": [
       "0.8222222222222222"
      ]
     },
     "execution_count": 72,
     "metadata": {},
     "output_type": "execute_result"
    }
   ],
   "source": [
    "recall_score(y_val ,xgb_pipe.predict(X_val),labels = [\"False\",\"True\"],pos_label= True) \n",
    "# I got a better recall score on the validation data"
   ]
  },
  {
   "cell_type": "markdown",
   "metadata": {},
   "source": [
    "## Final model"
   ]
  },
  {
   "cell_type": "code",
   "execution_count": 73,
   "metadata": {},
   "outputs": [],
   "source": [
    "df01 = df00.copy()"
   ]
  },
  {
   "cell_type": "code",
   "execution_count": 74,
   "metadata": {},
   "outputs": [],
   "source": [
    "df01, df_val = train_test_split(df01, test_size= 0.25,random_state=4)"
   ]
  },
  {
   "cell_type": "code",
   "execution_count": 75,
   "metadata": {},
   "outputs": [],
   "source": [
    "# one hot encode international plan and voice mail\n",
    "df01[\"international plan\"] = pd.get_dummies(df01[\"international plan\"], columns=\"international plan\", drop_first=False)\n",
    "df01[\"voice mail plan\"] = pd.get_dummies(df01[\"voice mail plan\"], columns=\"voice mail plan\", drop_first=False)"
   ]
  },
  {
   "cell_type": "code",
   "execution_count": 76,
   "metadata": {},
   "outputs": [],
   "source": [
    "df01[\"churn\"]= df01[\"churn\"].apply(lambda x: 1 if x == True else 0)\n",
    "# turning the Boolean value to integers (1,2)"
   ]
  },
  {
   "cell_type": "code",
   "execution_count": 77,
   "metadata": {},
   "outputs": [
    {
     "data": {
      "text/html": [
       "<div>\n",
       "<style scoped>\n",
       "    .dataframe tbody tr th:only-of-type {\n",
       "        vertical-align: middle;\n",
       "    }\n",
       "\n",
       "    .dataframe tbody tr th {\n",
       "        vertical-align: top;\n",
       "    }\n",
       "\n",
       "    .dataframe thead th {\n",
       "        text-align: right;\n",
       "    }\n",
       "</style>\n",
       "<table border=\"1\" class=\"dataframe\">\n",
       "  <thead>\n",
       "    <tr style=\"text-align: right;\">\n",
       "      <th></th>\n",
       "      <th>2497</th>\n",
       "      <th>1222</th>\n",
       "      <th>161</th>\n",
       "      <th>2204</th>\n",
       "      <th>216</th>\n",
       "    </tr>\n",
       "  </thead>\n",
       "  <tbody>\n",
       "    <tr>\n",
       "      <th>state</th>\n",
       "      <td>MN</td>\n",
       "      <td>MT</td>\n",
       "      <td>VA</td>\n",
       "      <td>MS</td>\n",
       "      <td>FL</td>\n",
       "    </tr>\n",
       "    <tr>\n",
       "      <th>account length</th>\n",
       "      <td>79</td>\n",
       "      <td>113</td>\n",
       "      <td>141</td>\n",
       "      <td>43</td>\n",
       "      <td>93</td>\n",
       "    </tr>\n",
       "    <tr>\n",
       "      <th>area code</th>\n",
       "      <td>408</td>\n",
       "      <td>415</td>\n",
       "      <td>415</td>\n",
       "      <td>510</td>\n",
       "      <td>415</td>\n",
       "    </tr>\n",
       "    <tr>\n",
       "      <th>phone number</th>\n",
       "      <td>383-4319</td>\n",
       "      <td>419-5505</td>\n",
       "      <td>417-4885</td>\n",
       "      <td>358-3691</td>\n",
       "      <td>328-6770</td>\n",
       "    </tr>\n",
       "    <tr>\n",
       "      <th>international plan</th>\n",
       "      <td>1</td>\n",
       "      <td>1</td>\n",
       "      <td>1</td>\n",
       "      <td>1</td>\n",
       "      <td>1</td>\n",
       "    </tr>\n",
       "    <tr>\n",
       "      <th>voice mail plan</th>\n",
       "      <td>0</td>\n",
       "      <td>1</td>\n",
       "      <td>1</td>\n",
       "      <td>1</td>\n",
       "      <td>1</td>\n",
       "    </tr>\n",
       "    <tr>\n",
       "      <th>number vmail messages</th>\n",
       "      <td>32</td>\n",
       "      <td>0</td>\n",
       "      <td>0</td>\n",
       "      <td>0</td>\n",
       "      <td>0</td>\n",
       "    </tr>\n",
       "    <tr>\n",
       "      <th>total day minutes</th>\n",
       "      <td>50.6</td>\n",
       "      <td>215.9</td>\n",
       "      <td>217.1</td>\n",
       "      <td>159.5</td>\n",
       "      <td>151.4</td>\n",
       "    </tr>\n",
       "    <tr>\n",
       "      <th>total day calls</th>\n",
       "      <td>62</td>\n",
       "      <td>93</td>\n",
       "      <td>110</td>\n",
       "      <td>99</td>\n",
       "      <td>89</td>\n",
       "    </tr>\n",
       "    <tr>\n",
       "      <th>total day charge</th>\n",
       "      <td>8.6</td>\n",
       "      <td>36.7</td>\n",
       "      <td>36.91</td>\n",
       "      <td>27.12</td>\n",
       "      <td>25.74</td>\n",
       "    </tr>\n",
       "    <tr>\n",
       "      <th>total eve minutes</th>\n",
       "      <td>201.4</td>\n",
       "      <td>240.1</td>\n",
       "      <td>241.5</td>\n",
       "      <td>119.7</td>\n",
       "      <td>186.4</td>\n",
       "    </tr>\n",
       "    <tr>\n",
       "      <th>total eve calls</th>\n",
       "      <td>87</td>\n",
       "      <td>85</td>\n",
       "      <td>111</td>\n",
       "      <td>149</td>\n",
       "      <td>76</td>\n",
       "    </tr>\n",
       "    <tr>\n",
       "      <th>total eve charge</th>\n",
       "      <td>17.12</td>\n",
       "      <td>20.41</td>\n",
       "      <td>20.53</td>\n",
       "      <td>10.17</td>\n",
       "      <td>15.84</td>\n",
       "    </tr>\n",
       "    <tr>\n",
       "      <th>total night minutes</th>\n",
       "      <td>146.8</td>\n",
       "      <td>156.7</td>\n",
       "      <td>253.5</td>\n",
       "      <td>173.9</td>\n",
       "      <td>172.5</td>\n",
       "    </tr>\n",
       "    <tr>\n",
       "      <th>total night calls</th>\n",
       "      <td>121</td>\n",
       "      <td>123</td>\n",
       "      <td>103</td>\n",
       "      <td>126</td>\n",
       "      <td>120</td>\n",
       "    </tr>\n",
       "    <tr>\n",
       "      <th>total night charge</th>\n",
       "      <td>6.61</td>\n",
       "      <td>7.05</td>\n",
       "      <td>11.41</td>\n",
       "      <td>7.83</td>\n",
       "      <td>7.76</td>\n",
       "    </tr>\n",
       "    <tr>\n",
       "      <th>total intl minutes</th>\n",
       "      <td>4.2</td>\n",
       "      <td>4.9</td>\n",
       "      <td>12</td>\n",
       "      <td>6.8</td>\n",
       "      <td>10.9</td>\n",
       "    </tr>\n",
       "    <tr>\n",
       "      <th>total intl calls</th>\n",
       "      <td>4</td>\n",
       "      <td>5</td>\n",
       "      <td>6</td>\n",
       "      <td>3</td>\n",
       "      <td>3</td>\n",
       "    </tr>\n",
       "    <tr>\n",
       "      <th>total intl charge</th>\n",
       "      <td>1.13</td>\n",
       "      <td>1.32</td>\n",
       "      <td>3.24</td>\n",
       "      <td>1.84</td>\n",
       "      <td>2.94</td>\n",
       "    </tr>\n",
       "    <tr>\n",
       "      <th>customer service calls</th>\n",
       "      <td>2</td>\n",
       "      <td>3</td>\n",
       "      <td>0</td>\n",
       "      <td>2</td>\n",
       "      <td>0</td>\n",
       "    </tr>\n",
       "    <tr>\n",
       "      <th>churn</th>\n",
       "      <td>0</td>\n",
       "      <td>0</td>\n",
       "      <td>0</td>\n",
       "      <td>0</td>\n",
       "      <td>0</td>\n",
       "    </tr>\n",
       "  </tbody>\n",
       "</table>\n",
       "</div>"
      ],
      "text/plain": [
       "                            2497      1222      161       2204      216 \n",
       "state                         MN        MT        VA        MS        FL\n",
       "account length                79       113       141        43        93\n",
       "area code                    408       415       415       510       415\n",
       "phone number            383-4319  419-5505  417-4885  358-3691  328-6770\n",
       "international plan             1         1         1         1         1\n",
       "voice mail plan                0         1         1         1         1\n",
       "number vmail messages         32         0         0         0         0\n",
       "total day minutes           50.6     215.9     217.1     159.5     151.4\n",
       "total day calls               62        93       110        99        89\n",
       "total day charge             8.6      36.7     36.91     27.12     25.74\n",
       "total eve minutes          201.4     240.1     241.5     119.7     186.4\n",
       "total eve calls               87        85       111       149        76\n",
       "total eve charge           17.12     20.41     20.53     10.17     15.84\n",
       "total night minutes        146.8     156.7     253.5     173.9     172.5\n",
       "total night calls            121       123       103       126       120\n",
       "total night charge          6.61      7.05     11.41      7.83      7.76\n",
       "total intl minutes           4.2       4.9        12       6.8      10.9\n",
       "total intl calls               4         5         6         3         3\n",
       "total intl charge           1.13      1.32      3.24      1.84      2.94\n",
       "customer service calls         2         3         0         2         0\n",
       "churn                          0         0         0         0         0"
      ]
     },
     "execution_count": 77,
     "metadata": {},
     "output_type": "execute_result"
    }
   ],
   "source": [
    "df01.head().T"
   ]
  },
  {
   "cell_type": "code",
   "execution_count": 78,
   "metadata": {},
   "outputs": [],
   "source": [
    "# dropping unwanted columns\n",
    "df01 = df01.drop([\"phone number\",\"state\",\"area code\"],axis =1) "
   ]
  },
  {
   "cell_type": "code",
   "execution_count": 79,
   "metadata": {},
   "outputs": [],
   "source": [
    "# creat X and y\n",
    "y1 = df01[\"churn\"]\n",
    "X1 = df01.drop([\"churn\"],axis =1)"
   ]
  },
  {
   "cell_type": "code",
   "execution_count": 80,
   "metadata": {},
   "outputs": [],
   "source": [
    "# Train test split\n",
    "X_train, X_test, y_train, y_test = train_test_split(X1, y1, random_state=1)"
   ]
  },
  {
   "cell_type": "code",
   "execution_count": 81,
   "metadata": {},
   "outputs": [
    {
     "data": {
      "text/html": [
       "<div>\n",
       "<style scoped>\n",
       "    .dataframe tbody tr th:only-of-type {\n",
       "        vertical-align: middle;\n",
       "    }\n",
       "\n",
       "    .dataframe tbody tr th {\n",
       "        vertical-align: top;\n",
       "    }\n",
       "\n",
       "    .dataframe thead th {\n",
       "        text-align: right;\n",
       "    }\n",
       "</style>\n",
       "<table border=\"1\" class=\"dataframe\">\n",
       "  <thead>\n",
       "    <tr style=\"text-align: right;\">\n",
       "      <th></th>\n",
       "      <th>account length</th>\n",
       "      <th>international plan</th>\n",
       "      <th>voice mail plan</th>\n",
       "      <th>number vmail messages</th>\n",
       "      <th>total day minutes</th>\n",
       "      <th>total day calls</th>\n",
       "      <th>total day charge</th>\n",
       "      <th>total eve minutes</th>\n",
       "      <th>total eve calls</th>\n",
       "      <th>total eve charge</th>\n",
       "      <th>total night minutes</th>\n",
       "      <th>total night calls</th>\n",
       "      <th>total night charge</th>\n",
       "      <th>total intl minutes</th>\n",
       "      <th>total intl calls</th>\n",
       "      <th>total intl charge</th>\n",
       "      <th>customer service calls</th>\n",
       "      <th>churn</th>\n",
       "    </tr>\n",
       "  </thead>\n",
       "  <tbody>\n",
       "    <tr>\n",
       "      <th>2497</th>\n",
       "      <td>79</td>\n",
       "      <td>1</td>\n",
       "      <td>0</td>\n",
       "      <td>32</td>\n",
       "      <td>50.6</td>\n",
       "      <td>62</td>\n",
       "      <td>8.60</td>\n",
       "      <td>201.4</td>\n",
       "      <td>87</td>\n",
       "      <td>17.12</td>\n",
       "      <td>146.8</td>\n",
       "      <td>121</td>\n",
       "      <td>6.61</td>\n",
       "      <td>4.2</td>\n",
       "      <td>4</td>\n",
       "      <td>1.13</td>\n",
       "      <td>2</td>\n",
       "      <td>0</td>\n",
       "    </tr>\n",
       "    <tr>\n",
       "      <th>1222</th>\n",
       "      <td>113</td>\n",
       "      <td>1</td>\n",
       "      <td>1</td>\n",
       "      <td>0</td>\n",
       "      <td>215.9</td>\n",
       "      <td>93</td>\n",
       "      <td>36.70</td>\n",
       "      <td>240.1</td>\n",
       "      <td>85</td>\n",
       "      <td>20.41</td>\n",
       "      <td>156.7</td>\n",
       "      <td>123</td>\n",
       "      <td>7.05</td>\n",
       "      <td>4.9</td>\n",
       "      <td>5</td>\n",
       "      <td>1.32</td>\n",
       "      <td>3</td>\n",
       "      <td>0</td>\n",
       "    </tr>\n",
       "    <tr>\n",
       "      <th>161</th>\n",
       "      <td>141</td>\n",
       "      <td>1</td>\n",
       "      <td>1</td>\n",
       "      <td>0</td>\n",
       "      <td>217.1</td>\n",
       "      <td>110</td>\n",
       "      <td>36.91</td>\n",
       "      <td>241.5</td>\n",
       "      <td>111</td>\n",
       "      <td>20.53</td>\n",
       "      <td>253.5</td>\n",
       "      <td>103</td>\n",
       "      <td>11.41</td>\n",
       "      <td>12.0</td>\n",
       "      <td>6</td>\n",
       "      <td>3.24</td>\n",
       "      <td>0</td>\n",
       "      <td>0</td>\n",
       "    </tr>\n",
       "    <tr>\n",
       "      <th>2204</th>\n",
       "      <td>43</td>\n",
       "      <td>1</td>\n",
       "      <td>1</td>\n",
       "      <td>0</td>\n",
       "      <td>159.5</td>\n",
       "      <td>99</td>\n",
       "      <td>27.12</td>\n",
       "      <td>119.7</td>\n",
       "      <td>149</td>\n",
       "      <td>10.17</td>\n",
       "      <td>173.9</td>\n",
       "      <td>126</td>\n",
       "      <td>7.83</td>\n",
       "      <td>6.8</td>\n",
       "      <td>3</td>\n",
       "      <td>1.84</td>\n",
       "      <td>2</td>\n",
       "      <td>0</td>\n",
       "    </tr>\n",
       "    <tr>\n",
       "      <th>216</th>\n",
       "      <td>93</td>\n",
       "      <td>1</td>\n",
       "      <td>1</td>\n",
       "      <td>0</td>\n",
       "      <td>151.4</td>\n",
       "      <td>89</td>\n",
       "      <td>25.74</td>\n",
       "      <td>186.4</td>\n",
       "      <td>76</td>\n",
       "      <td>15.84</td>\n",
       "      <td>172.5</td>\n",
       "      <td>120</td>\n",
       "      <td>7.76</td>\n",
       "      <td>10.9</td>\n",
       "      <td>3</td>\n",
       "      <td>2.94</td>\n",
       "      <td>0</td>\n",
       "      <td>0</td>\n",
       "    </tr>\n",
       "  </tbody>\n",
       "</table>\n",
       "</div>"
      ],
      "text/plain": [
       "      account length  international plan  voice mail plan  \\\n",
       "2497              79                   1                0   \n",
       "1222             113                   1                1   \n",
       "161              141                   1                1   \n",
       "2204              43                   1                1   \n",
       "216               93                   1                1   \n",
       "\n",
       "      number vmail messages  total day minutes  total day calls  \\\n",
       "2497                     32               50.6               62   \n",
       "1222                      0              215.9               93   \n",
       "161                       0              217.1              110   \n",
       "2204                      0              159.5               99   \n",
       "216                       0              151.4               89   \n",
       "\n",
       "      total day charge  total eve minutes  total eve calls  total eve charge  \\\n",
       "2497              8.60              201.4               87             17.12   \n",
       "1222             36.70              240.1               85             20.41   \n",
       "161              36.91              241.5              111             20.53   \n",
       "2204             27.12              119.7              149             10.17   \n",
       "216              25.74              186.4               76             15.84   \n",
       "\n",
       "      total night minutes  total night calls  total night charge  \\\n",
       "2497                146.8                121                6.61   \n",
       "1222                156.7                123                7.05   \n",
       "161                 253.5                103               11.41   \n",
       "2204                173.9                126                7.83   \n",
       "216                 172.5                120                7.76   \n",
       "\n",
       "      total intl minutes  total intl calls  total intl charge  \\\n",
       "2497                 4.2                 4               1.13   \n",
       "1222                 4.9                 5               1.32   \n",
       "161                 12.0                 6               3.24   \n",
       "2204                 6.8                 3               1.84   \n",
       "216                 10.9                 3               2.94   \n",
       "\n",
       "      customer service calls  churn  \n",
       "2497                       2      0  \n",
       "1222                       3      0  \n",
       "161                        0      0  \n",
       "2204                       2      0  \n",
       "216                        0      0  "
      ]
     },
     "execution_count": 81,
     "metadata": {},
     "output_type": "execute_result"
    }
   ],
   "source": [
    "df01.head()"
   ]
  },
  {
   "cell_type": "code",
   "execution_count": 82,
   "metadata": {},
   "outputs": [],
   "source": [
    "# # Fit SMOTE to training data\n",
    "X_trains, y_trains = SMOTE().fit_resample(X_train, y_train)\n",
    "# fit SMOTE here  to balance the target\n",
    "# XGBoost not sensitive to standardization because it uses an ensemble algorithm comprised of decision trees "
   ]
  },
  {
   "cell_type": "code",
   "execution_count": 83,
   "metadata": {},
   "outputs": [],
   "source": [
    "# Instantiate XGBClassifier\n",
    "clf = XGBClassifier()\n",
    "\n",
    "# Fit XGBClassifier\n",
    "clf.fit(X_trains, y_trains)\n",
    "\n",
    "# Predict on training and test sets\n",
    "training_preds = clf.predict(X_trains)\n",
    "test_preds = clf.predict(X_test)\n",
    "\n",
    "# Accuracy of training and test sets\n",
    "training_accuracy = accuracy_score(y_trains, training_preds)\n",
    "test_accuracy = accuracy_score(y_test, test_preds)"
   ]
  },
  {
   "cell_type": "code",
   "execution_count": 84,
   "metadata": {},
   "outputs": [
    {
     "name": "stdout",
     "output_type": "stream",
     "text": [
      "<class 'bool'>\n",
      "Train Scores\n",
      "------------\n",
      "Recall: 1.0\n",
      "Precision: 1.0\n",
      "Accuracy: 1.0\n",
      "F1 Score: 1.0\n",
      "--------------------\n",
      "Test Scores\n",
      "-----------\n",
      "Recall: 1.0\n",
      "Precision: 1.0\n",
      "Accuracy: 1.0\n",
      "F1 Score: 1.0\n"
     ]
    },
    {
     "data": {
      "image/png": "[encoded data removed]",
      "text/plain": [
       "<Figure size 432x288 with 2 Axes>"
      ]
     },
     "metadata": {
      "needs_background": "light"
     },
     "output_type": "display_data"
    }
   ],
   "source": [
    "# Evaluate\n",
    "evaluate(clf, X_trains, X_test, training_preds,test_preds,use_decision_function='skip')\n",
    "#There is a significant improvement in XGBoost Classifier after using SMOTE. The confusing matrix looks great\n",
    "#with zero False Negative and False Positive. The testing score is perfect on all metrics. There is a clear \n",
    "#improvement from the previous XGBoost model."
   ]
  },
  {
   "cell_type": "markdown",
   "metadata": {},
   "source": [
    "**Feature Importance built-in the Xgboost algorithm** "
   ]
  },
  {
   "cell_type": "code",
   "execution_count": 85,
   "metadata": {},
   "outputs": [
    {
     "data": {
      "image/png": "[encoded data removed]",
      "text/plain": [
       "<Figure size 720x576 with 1 Axes>"
      ]
     },
     "metadata": {
      "needs_background": "light"
     },
     "output_type": "display_data"
    }
   ],
   "source": [
    "# Plot feature importances\n",
    "clf.feature_importances_\n",
    "feat_names= X1.columns\n",
    "sorted_idx = clf.feature_importances_.argsort()\n",
    "plt.figure(figsize=(10, 8))\n",
    "plt.barh(feat_names, clf.feature_importances_[sorted_idx])\n",
    "plt.title(\"Xgboost Feature Importance\", size = 15)\n",
    "plt.show()\n",
    "# The most important features are customer service calls, total charges, calls, and minutes for international calls"
   ]
  },
  {
   "cell_type": "markdown",
   "metadata": {},
   "source": [
    "**Feature Importance computed with SHAP values**"
   ]
  },
  {
   "cell_type": "code",
   "execution_count": 86,
   "metadata": {},
   "outputs": [],
   "source": [
    "explainer = shap.TreeExplainer(clf)\n",
    "shap_values = explainer.shap_values(X_test)"
   ]
  },
  {
   "cell_type": "code",
   "execution_count": 87,
   "metadata": {},
   "outputs": [
    {
     "data": {
      "image/png": "[encoded data removed]",
      "text/plain": [
       "<Figure size 576x597.6 with 1 Axes>"
      ]
     },
     "metadata": {
      "needs_background": "light"
     },
     "output_type": "display_data"
    }
   ],
   "source": [
    "#Plot feature importance by using .summary_plot\n",
    "plt.figure(figsize=(10, 8))\n",
    "shap.summary_plot(shap_values, X_test, plot_type=\"bar\",title=\"Xgboost Feature Importance with SHAP\")\n",
    "\n",
    "# The most important features are international plan, total day minutes, and customer service calls.\n",
    "# https://mljar.com/blog/feature-importance-xgboost/ "
   ]
  },
  {
   "cell_type": "code",
   "execution_count": 88,
   "metadata": {},
   "outputs": [
    {
     "data": {
      "image/png": "[encoded data removed]",
      "text/plain": [
       "<Figure size 576x597.6 with 2 Axes>"
      ]
     },
     "metadata": {
      "needs_background": "light"
     },
     "output_type": "display_data"
    }
   ],
   "source": [
    "# more interpretation plots from SHAP package\n",
    "shap.summary_plot(shap_values, X_test)"
   ]
  },
  {
   "cell_type": "markdown",
   "metadata": {},
   "source": [
    "**Permutation Based Feature Importance**"
   ]
  },
  {
   "cell_type": "code",
   "execution_count": 89,
   "metadata": {},
   "outputs": [],
   "source": [
    "perm_importance = permutation_importance(clf, X_test, y_test)"
   ]
  },
  {
   "cell_type": "code",
   "execution_count": 90,
   "metadata": {},
   "outputs": [
    {
     "data": {
      "image/png": "[encoded data removed]",
      "text/plain": [
       "<Figure size 720x576 with 1 Axes>"
      ]
     },
     "metadata": {
      "needs_background": "light"
     },
     "output_type": "display_data"
    }
   ],
   "source": [
    "#Plot Permutation importance\n",
    "sorted_idx = perm_importance.importances_mean.argsort()\n",
    "plt.figure(figsize=(10, 8))\n",
    "plt.barh(feat_names, clf.feature_importances_[sorted_idx])\n",
    "plt.title(\"Permutation Importance\",size=15)\n",
    "plt.show()\n",
    "# The most important features are account length,total charge and calls for international calls, total night calls,\n",
    "#and customer service calls."
   ]
  },
  {
   "cell_type": "code",
   "execution_count": 91,
   "metadata": {},
   "outputs": [],
   "source": [
    "# dropping unwanted columns\n",
    "df_val = df_val.drop([\"phone number\",\"state\",\"area code\"],axis =1) "
   ]
  },
  {
   "cell_type": "code",
   "execution_count": 92,
   "metadata": {},
   "outputs": [],
   "source": [
    "# one hot encode international plan and voice mail\n",
    "df_val[\"international plan\"] = pd.get_dummies(df_val[\"international plan\"],columns=\"international plan\", drop_first=False,dtype=float)\n",
    "df_val[\"voice mail plan\"] = pd.get_dummies(df_val[\"voice mail plan\"], columns=\"voice mail plan\", drop_first=False,dtype=float)"
   ]
  },
  {
   "cell_type": "code",
   "execution_count": 93,
   "metadata": {},
   "outputs": [],
   "source": [
    "df_val[\"churn\"]= df_val[\"churn\"].apply(lambda x: 1 if x == True else 0)\n",
    "# turning the Boolean value to integers (1,2)"
   ]
  },
  {
   "cell_type": "code",
   "execution_count": 94,
   "metadata": {},
   "outputs": [],
   "source": [
    "y_val = df_val[\"churn\"]\n",
    "X_val = df_val.drop([\"churn\"],axis =1)"
   ]
  },
  {
   "cell_type": "code",
   "execution_count": 95,
   "metadata": {},
   "outputs": [
    {
     "data": {
      "text/plain": [
       "<sklearn.metrics._plot.confusion_matrix.ConfusionMatrixDisplay at 0x7fa94438ed60>"
      ]
     },
     "execution_count": 95,
     "metadata": {},
     "output_type": "execute_result"
    },
    {
     "data": {
      "image/png": "[encoded data removed]",
      "text/plain": [
       "<Figure size 432x288 with 2 Axes>"
      ]
     },
     "metadata": {
      "needs_background": "light"
     },
     "output_type": "display_data"
    }
   ],
   "source": [
    "plot_confusion_matrix(clf,X_val,y_val)"
   ]
  },
  {
   "cell_type": "code",
   "execution_count": 96,
   "metadata": {},
   "outputs": [
    {
     "name": "stdout",
     "output_type": "stream",
     "text": [
      "<class 'pandas.core.frame.DataFrame'>\n",
      "Int64Index: 834 entries, 2540 to 2398\n",
      "Data columns (total 18 columns):\n",
      " #   Column                  Non-Null Count  Dtype  \n",
      "---  ------                  --------------  -----  \n",
      " 0   account length          834 non-null    int64  \n",
      " 1   international plan      834 non-null    float64\n",
      " 2   voice mail plan         834 non-null    float64\n",
      " 3   number vmail messages   834 non-null    int64  \n",
      " 4   total day minutes       834 non-null    float64\n",
      " 5   total day calls         834 non-null    int64  \n",
      " 6   total day charge        834 non-null    float64\n",
      " 7   total eve minutes       834 non-null    float64\n",
      " 8   total eve calls         834 non-null    int64  \n",
      " 9   total eve charge        834 non-null    float64\n",
      " 10  total night minutes     834 non-null    float64\n",
      " 11  total night calls       834 non-null    int64  \n",
      " 12  total night charge      834 non-null    float64\n",
      " 13  total intl minutes      834 non-null    float64\n",
      " 14  total intl calls        834 non-null    int64  \n",
      " 15  total intl charge       834 non-null    float64\n",
      " 16  customer service calls  834 non-null    int64  \n",
      " 17  churn                   834 non-null    int64  \n",
      "dtypes: float64(10), int64(8)\n",
      "memory usage: 123.8 KB\n"
     ]
    }
   ],
   "source": [
    "df_val.info()"
   ]
  },
  {
   "cell_type": "code",
   "execution_count": 97,
   "metadata": {},
   "outputs": [
    {
     "name": "stdout",
     "output_type": "stream",
     "text": [
      "              precision    recall  f1-score   support\n",
      "\n",
      "           0       0.98      0.96      0.97       715\n",
      "           1       0.77      0.86      0.81       119\n",
      "\n",
      "    accuracy                           0.94       834\n",
      "   macro avg       0.87      0.91      0.89       834\n",
      "weighted avg       0.95      0.94      0.94       834\n",
      "\n"
     ]
    }
   ],
   "source": [
    "print(classification_report(y_val, clf.predict(X_val)))"
   ]
  },
  {
   "cell_type": "code",
   "execution_count": 98,
   "metadata": {},
   "outputs": [
    {
     "data": {
      "text/plain": [
       "0.8571428571428571"
      ]
     },
     "execution_count": 98,
     "metadata": {},
     "output_type": "execute_result"
    }
   ],
   "source": [
    "recall_score(y_val ,clf.predict(X_val),labels = [\"False\",\"True\"],pos_label= True) "
   ]
  },
  {
   "cell_type": "markdown",
   "metadata": {},
   "source": [
    "### Conclusions\n",
    "- There is a significant improvement in XGBoost Classifier after using SMOTE. The confusing matrix looks great with zero False Negative and False Positive.  The testing score is perfect on all metrics. There is a clear improvement from the previous XGBoost model.\n",
    "- Customers who called customer service more than 3 times tend to leave.\n",
    "- Customer who has international plan churn at a higher rate than the customer who has not.\n",
    "- The top 5 churn's state are California, New Jersey, Texas, Maryland, and South Carolina,maybe they have bad coverage or competitive provider at those states; so customer service should pay special attention to those states\n",
    "\n",
    "### Recommendations:\n",
    "After looking at various feature importance from my final model, I would recommend the following measures to improve customer retention.\n",
    "- Improve the quality of the customer service by offering more training.\n",
    "- Customer service should follow-up with the customers who call 3 times and offer promotions or discounts like a free month.\n",
    "- Syriatel should revisit its international plan and adjust the pricing.\n",
    "- Syriatel should offer free voice mail plan for everyone.\n"
   ]
  },
  {
   "cell_type": "markdown",
   "metadata": {},
   "source": [
    "### Limitaion\n",
    "\n",
    "The size of the dataset and the limited features"
   ]
  },
  {
   "cell_type": "markdown",
   "metadata": {},
   "source": [
    "### Future work\n",
    "Looking for additional features like the coverage in some states and customer service rating."
   ]
  }
 ],
 "metadata": {
  "kernelspec": {
   "display_name": "learn-env",
   "language": "python",
   "name": "learn-env"
  },
  "language_info": {
   "codemirror_mode": {
    "name": "ipython",
    "version": 3
   },
   "file_extension": ".py",
   "mimetype": "text/x-python",
   "name": "python",
   "nbconvert_exporter": "python",
   "pygments_lexer": "ipython3",
   "version": "3.8.5"
  }
 },
 "nbformat": 4,
 "nbformat_minor": 4
}
